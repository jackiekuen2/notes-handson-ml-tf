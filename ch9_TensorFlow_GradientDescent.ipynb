{
  "nbformat": 4,
  "nbformat_minor": 0,
  "metadata": {
    "colab": {
      "name": "ch9_TensorFlow_GradientDescent.ipynb",
      "provenance": [],
      "collapsed_sections": [],
      "toc_visible": true,
      "machine_shape": "hm",
      "authorship_tag": "ABX9TyP1eGmV8V8gZhr5GPP+1G3u",
      "include_colab_link": true
    },
    "kernelspec": {
      "name": "python3",
      "display_name": "Python 3"
    }
  },
  "cells": [
    {
      "cell_type": "markdown",
      "metadata": {
        "id": "view-in-github",
        "colab_type": "text"
      },
      "source": [
        "<a href=\"https://colab.research.google.com/github/jackiekuen2/notes-handson-ml-tf/blob/master/ch9_TensorFlow_GradientDescent.ipynb\" target=\"_parent\"><img src=\"https://colab.research.google.com/assets/colab-badge.svg\" alt=\"Open In Colab\"/></a>"
      ]
    },
    {
      "cell_type": "code",
      "metadata": {
        "id": "d6Ea-Am2ZoH3",
        "colab_type": "code",
        "colab": {}
      },
      "source": [
        "# a = []\n",
        "# while(1):\n",
        "#     a.append(\"1\")"
      ],
      "execution_count": 0,
      "outputs": []
    },
    {
      "cell_type": "code",
      "metadata": {
        "id": "x6AV__cuaErh",
        "colab_type": "code",
        "outputId": "573f93bb-ab96-419d-9f9d-fea562c72665",
        "colab": {
          "base_uri": "https://localhost:8080/",
          "height": 51
        }
      },
      "source": [
        "%tensorflow_version 1.x\n",
        "\n",
        "import tensorflow as tf\n",
        "\n",
        "print(tf.__version__)"
      ],
      "execution_count": 0,
      "outputs": [
        {
          "output_type": "stream",
          "text": [
            "TensorFlow 1.x selected.\n",
            "1.15.2\n"
          ],
          "name": "stdout"
        }
      ]
    },
    {
      "cell_type": "code",
      "metadata": {
        "id": "9GkLXU-0au4m",
        "colab_type": "code",
        "outputId": "b273e606-d99e-491a-f1c8-e9ca08de30f8",
        "colab": {
          "base_uri": "https://localhost:8080/",
          "height": 34
        }
      },
      "source": [
        "import numpy as np\n",
        "from sklearn.datasets import fetch_california_housing\n",
        "\n",
        "housing = fetch_california_housing()"
      ],
      "execution_count": 0,
      "outputs": [
        {
          "output_type": "stream",
          "text": [
            "Downloading Cal. housing from https://ndownloader.figshare.com/files/5976036 to /root/scikit_learn_data\n"
          ],
          "name": "stderr"
        }
      ]
    },
    {
      "cell_type": "code",
      "metadata": {
        "id": "Ec3nV6Ada3PJ",
        "colab_type": "code",
        "outputId": "e6c3ea00-4274-40ab-eb0d-28ca2d32f903",
        "colab": {
          "base_uri": "https://localhost:8080/",
          "height": 34
        }
      },
      "source": [
        "housing.keys()"
      ],
      "execution_count": 0,
      "outputs": [
        {
          "output_type": "execute_result",
          "data": {
            "text/plain": [
              "dict_keys(['data', 'target', 'feature_names', 'DESCR'])"
            ]
          },
          "metadata": {
            "tags": []
          },
          "execution_count": 4
        }
      ]
    },
    {
      "cell_type": "code",
      "metadata": {
        "id": "81HlgYQLa-Aj",
        "colab_type": "code",
        "outputId": "e34e99e2-d585-4533-9394-d512873db0a1",
        "colab": {
          "base_uri": "https://localhost:8080/",
          "height": 153
        }
      },
      "source": [
        "housing.feature_names"
      ],
      "execution_count": 0,
      "outputs": [
        {
          "output_type": "execute_result",
          "data": {
            "text/plain": [
              "['MedInc',\n",
              " 'HouseAge',\n",
              " 'AveRooms',\n",
              " 'AveBedrms',\n",
              " 'Population',\n",
              " 'AveOccup',\n",
              " 'Latitude',\n",
              " 'Longitude']"
            ]
          },
          "metadata": {
            "tags": []
          },
          "execution_count": 5
        }
      ]
    },
    {
      "cell_type": "markdown",
      "metadata": {
        "id": "QiPlx0gEbDZw",
        "colab_type": "text"
      },
      "source": [
        "## First, Feature Scaling before training"
      ]
    },
    {
      "cell_type": "code",
      "metadata": {
        "id": "z1PtBzOLbAtO",
        "colab_type": "code",
        "colab": {}
      },
      "source": [
        "from sklearn.preprocessing import StandardScaler\n",
        "\n",
        "scaler = StandardScaler()\n",
        "scaled_housing_data = scaler.fit_transform(housing.data)\n",
        "m, n = scaled_housing_data.shape\n",
        "\n",
        "scaled_housing_data_plus_bias = np.c_[np.ones((m, 1)), scaled_housing_data]"
      ],
      "execution_count": 0,
      "outputs": []
    },
    {
      "cell_type": "code",
      "metadata": {
        "id": "0dRu_Ah3fRk0",
        "colab_type": "code",
        "outputId": "6f6734f0-94ef-4e5e-960f-3c3b693f8b57",
        "colab": {
          "base_uri": "https://localhost:8080/",
          "height": 34
        }
      },
      "source": [
        "print(m, n)"
      ],
      "execution_count": 0,
      "outputs": [
        {
          "output_type": "stream",
          "text": [
            "20640 8\n"
          ],
          "name": "stdout"
        }
      ]
    },
    {
      "cell_type": "code",
      "metadata": {
        "id": "q6RN-9gdbwNy",
        "colab_type": "code",
        "colab": {}
      },
      "source": [
        "# Reset graph\n",
        "tf.reset_default_graph()"
      ],
      "execution_count": 0,
      "outputs": []
    },
    {
      "cell_type": "markdown",
      "metadata": {
        "id": "ZDPj4H9scZsp",
        "colab_type": "text"
      },
      "source": [
        "## Method 1. Manually Computing the Grdients"
      ]
    },
    {
      "cell_type": "code",
      "metadata": {
        "id": "oDv7O1h8cWwj",
        "colab_type": "code",
        "outputId": "8237930c-3f8a-41ec-eefb-bf275ae38ea9",
        "colab": {
          "base_uri": "https://localhost:8080/",
          "height": 187
        }
      },
      "source": [
        "n_epochs = 1000\n",
        "learning_rate = 0.01\n",
        "\n",
        "X = tf.constant(scaled_housing_data_plus_bias, dtype=tf.float32, name='X')\n",
        "y = tf.constant(housing.target.reshape(-1, 1), dtype=tf.float32, name='y')\n",
        "\n",
        "# Randomly initialize a tensor theta, tf.random_uniform() similar to np.rand()\n",
        "theta = tf.Variable(tf.random_uniform([n+1, 1], -1.0, 1.0), name='theta')\n",
        "\n",
        "y_pred = tf.matmul(X, theta, name='predictions')\n",
        "error = y_pred - y\n",
        "\n",
        "# Mean Square Error, tf.reduce_mean similar to np.mean()\n",
        "mse = tf.reduce_mean(tf.square(error), name='mse')\n",
        "\n",
        "gradients = 2/m * tf.matmul(tf.transpose(X), error)\n",
        "\n",
        "# Update theta\n",
        "training_op = tf.assign(theta, theta - learning_rate*gradients)\n",
        "\n",
        "# Initialize global variables\n",
        "init = tf.global_variables_initializer()\n",
        "\n",
        "with tf.Session() as sess:\n",
        "    sess.run(init)\n",
        "\n",
        "    for epoch in range(n_epochs):\n",
        "        if epoch % 100 == 0: # Print out MSE every 100 iterations\n",
        "            print(\"Epoch {} MSE={}\".format(epoch, mse.eval()))\n",
        "        sess.run(training_op)\n",
        "    \n",
        "    best_theta = theta.eval()"
      ],
      "execution_count": 0,
      "outputs": [
        {
          "output_type": "stream",
          "text": [
            "Epoch 0 MSE=11.618226051330566\n",
            "Epoch 100 MSE=1.0208406448364258\n",
            "Epoch 200 MSE=0.719840407371521\n",
            "Epoch 300 MSE=0.6597663164138794\n",
            "Epoch 400 MSE=0.6219435334205627\n",
            "Epoch 500 MSE=0.5949181914329529\n",
            "Epoch 600 MSE=0.5754101276397705\n",
            "Epoch 700 MSE=0.5613120794296265\n",
            "Epoch 800 MSE=0.5511195659637451\n",
            "Epoch 900 MSE=0.5437483191490173\n"
          ],
          "name": "stdout"
        }
      ]
    },
    {
      "cell_type": "code",
      "metadata": {
        "id": "O_yMMiCnlDSW",
        "colab_type": "code",
        "outputId": "80c91b37-9a01-42bc-a123-e5127a7f86c1",
        "colab": {
          "base_uri": "https://localhost:8080/",
          "height": 170
        }
      },
      "source": [
        "best_theta"
      ],
      "execution_count": 0,
      "outputs": [
        {
          "output_type": "execute_result",
          "data": {
            "text/plain": [
              "array([[ 2.0685523 ],\n",
              "       [ 0.7329799 ],\n",
              "       [ 0.14655156],\n",
              "       [ 0.00294576],\n",
              "       [ 0.04592052],\n",
              "       [ 0.0068636 ],\n",
              "       [-0.03961714],\n",
              "       [-0.787969  ],\n",
              "       [-0.7432216 ]], dtype=float32)"
            ]
          },
          "metadata": {
            "tags": []
          },
          "execution_count": 10
        }
      ]
    },
    {
      "cell_type": "code",
      "metadata": {
        "id": "_XCu1mqLlEQ6",
        "colab_type": "code",
        "colab": {}
      },
      "source": [
        "tf.reset_default_graph()"
      ],
      "execution_count": 0,
      "outputs": []
    },
    {
      "cell_type": "markdown",
      "metadata": {
        "id": "jBVNDjGTqAmj",
        "colab_type": "text"
      },
      "source": [
        "## Method 2. Using autodiff"
      ]
    },
    {
      "cell_type": "code",
      "metadata": {
        "id": "D4NjMGbbp7JU",
        "colab_type": "code",
        "outputId": "19486821-27c9-466c-b63d-ec2996ec6b83",
        "colab": {
          "base_uri": "https://localhost:8080/",
          "height": 340
        }
      },
      "source": [
        "n_epochs = 1000\n",
        "learning_rate = 0.01\n",
        "\n",
        "X = tf.constant(scaled_housing_data_plus_bias, dtype=tf.float32, name='X')\n",
        "y = tf.constant(housing.target.reshape(-1, 1), dtype=tf.float32, name='y')\n",
        "\n",
        "# Randomly initialize a tensor theta, tf.random_uniform() similar to np.rand()\n",
        "theta = tf.Variable(tf.random_uniform([n+1, 1], -1.0, 1.0), name='theta')\n",
        "\n",
        "y_pred = tf.matmul(X, theta, name='predictions')\n",
        "error = y_pred - y\n",
        "\n",
        "# Mean Square Error, tf.reduce_mean similar to np.mean()\n",
        "mse = tf.reduce_mean(tf.square(error), name='mse')\n",
        "\n",
        "# Using autodiff: Compute gradient vectors of the MSE w.r.t theta\n",
        "# gradients = 2/m * tf.matmul(tf.transpose(X), error)\n",
        "gradients = tf.gradients(mse, [theta])[0]\n",
        "\n",
        "# Update theta\n",
        "training_op = tf.assign(theta, theta - learning_rate*gradients)\n",
        "\n",
        "# Initialize global variables\n",
        "init = tf.global_variables_initializer()\n",
        "\n",
        "with tf.Session() as sess:\n",
        "    sess.run(init)\n",
        "\n",
        "    for epoch in range(n_epochs):\n",
        "        if epoch % 100 == 0: # Print out MSE every 100 iterations\n",
        "            print(\"Epoch {} MSE={}\".format(epoch, mse.eval()))\n",
        "        sess.run(training_op)\n",
        "    \n",
        "    best_theta = theta.eval()\n",
        "\n",
        "print(\"Best theta: \", best_theta)"
      ],
      "execution_count": 0,
      "outputs": [
        {
          "output_type": "stream",
          "text": [
            "Epoch 0 MSE=3.9721925258636475\n",
            "Epoch 100 MSE=0.8189903497695923\n",
            "Epoch 200 MSE=0.7060704827308655\n",
            "Epoch 300 MSE=0.6669353246688843\n",
            "Epoch 400 MSE=0.6382347941398621\n",
            "Epoch 500 MSE=0.615772545337677\n",
            "Epoch 600 MSE=0.5980274677276611\n",
            "Epoch 700 MSE=0.5839371681213379\n",
            "Epoch 800 MSE=0.5726980566978455\n",
            "Epoch 900 MSE=0.5636948943138123\n",
            "Best theta:  [[ 2.0685525 ]\n",
            " [ 0.9796639 ]\n",
            " [ 0.17247641]\n",
            " [-0.5011466 ]\n",
            " [ 0.4794834 ]\n",
            " [ 0.01309427]\n",
            " [-0.04707039]\n",
            " [-0.3673576 ]\n",
            " [-0.3531609 ]]\n"
          ],
          "name": "stdout"
        }
      ]
    },
    {
      "cell_type": "code",
      "metadata": {
        "id": "hyWLVt6_eymp",
        "colab_type": "code",
        "colab": {}
      },
      "source": [
        "tf.reset_default_graph()"
      ],
      "execution_count": 0,
      "outputs": []
    },
    {
      "cell_type": "markdown",
      "metadata": {
        "id": "ScNBU-Coe97Y",
        "colab_type": "text"
      },
      "source": [
        "## Method 3. Using an Optimizer (#1 Gradient Descent Optimizer)"
      ]
    },
    {
      "cell_type": "code",
      "metadata": {
        "id": "K_ALE1rne9es",
        "colab_type": "code",
        "outputId": "f3749bc7-72f6-4608-8799-4f787e0befac",
        "colab": {
          "base_uri": "https://localhost:8080/",
          "height": 340
        }
      },
      "source": [
        "n_epochs = 1000\n",
        "learning_rate = 0.01\n",
        "\n",
        "X = tf.constant(scaled_housing_data_plus_bias, dtype=tf.float32, name='X')\n",
        "y = tf.constant(housing.target.reshape(-1, 1), dtype=tf.float32, name='y')\n",
        "\n",
        "# Randomly initialize a tensor theta, tf.random_uniform() similar to np.rand()\n",
        "theta = tf.Variable(tf.random_uniform([n+1, 1], -1.0, 1.0), name='theta')\n",
        "\n",
        "y_pred = tf.matmul(X, theta, name='predictions')\n",
        "error = y_pred - y\n",
        "\n",
        "# Mean Square Error, tf.reduce_mean similar to np.mean()\n",
        "mse = tf.reduce_mean(tf.square(error), name='mse')\n",
        "\n",
        "# Using GradientDescentOptimizer\n",
        "optimizer = tf.train.GradientDescentOptimizer(learning_rate=learning_rate)\n",
        "\n",
        "# Minimize MSE\n",
        "training_op = optimizer.minimize(mse)\n",
        "\n",
        "# Initialize global variables\n",
        "init = tf.global_variables_initializer()\n",
        "\n",
        "with tf.Session() as sess:\n",
        "    sess.run(init)\n",
        "\n",
        "    for epoch in range(n_epochs):\n",
        "        if epoch % 100 == 0: # Print out MSE every 100 iterations\n",
        "            print(\"Epoch {} MSE={}\".format(epoch, mse.eval()))\n",
        "        sess.run(training_op)\n",
        "    \n",
        "    best_theta = theta.eval()\n",
        "\n",
        "print(\"Best theta: \", best_theta)"
      ],
      "execution_count": 0,
      "outputs": [
        {
          "output_type": "stream",
          "text": [
            "Epoch 0 MSE=6.178981781005859\n",
            "Epoch 100 MSE=0.7283284068107605\n",
            "Epoch 200 MSE=0.646472156047821\n",
            "Epoch 300 MSE=0.6169953346252441\n",
            "Epoch 400 MSE=0.5954747796058655\n",
            "Epoch 500 MSE=0.5792500376701355\n",
            "Epoch 600 MSE=0.5669466853141785\n",
            "Epoch 700 MSE=0.5575711131095886\n",
            "Epoch 800 MSE=0.5503908395767212\n",
            "Epoch 900 MSE=0.544863760471344\n",
            "Best theta:  [[ 2.0685525 ]\n",
            " [ 0.9035668 ]\n",
            " [ 0.16156963]\n",
            " [-0.35108522]\n",
            " [ 0.3526298 ]\n",
            " [ 0.01011347]\n",
            " [-0.044525  ]\n",
            " [-0.51831335]\n",
            " [-0.49495554]]\n"
          ],
          "name": "stdout"
        }
      ]
    },
    {
      "cell_type": "code",
      "metadata": {
        "id": "o_5Et8R_gMUI",
        "colab_type": "code",
        "colab": {}
      },
      "source": [
        "tf.reset_default_graph()"
      ],
      "execution_count": 0,
      "outputs": []
    },
    {
      "cell_type": "markdown",
      "metadata": {
        "id": "K-crPSTRf247",
        "colab_type": "text"
      },
      "source": [
        "## Method 3. Using an Optimizer (#2 Momentum Optimizer)"
      ]
    },
    {
      "cell_type": "code",
      "metadata": {
        "colab_type": "code",
        "outputId": "2e7ef455-6fca-4c4a-af94-836210a72ec0",
        "id": "6xaFwjSZgDEg",
        "colab": {
          "base_uri": "https://localhost:8080/",
          "height": 340
        }
      },
      "source": [
        "n_epochs = 1000\n",
        "learning_rate = 0.01\n",
        "\n",
        "X = tf.constant(scaled_housing_data_plus_bias, dtype=tf.float32, name='X')\n",
        "y = tf.constant(housing.target.reshape(-1, 1), dtype=tf.float32, name='y')\n",
        "\n",
        "# Randomly initialize a tensor theta, tf.random_uniform() similar to np.rand()\n",
        "theta = tf.Variable(tf.random_uniform([n+1, 1], -1.0, 1.0), name='theta')\n",
        "\n",
        "y_pred = tf.matmul(X, theta, name='predictions')\n",
        "error = y_pred - y\n",
        "\n",
        "# Mean Square Error, tf.reduce_mean similar to np.mean()\n",
        "mse = tf.reduce_mean(tf.square(error), name='mse')\n",
        "\n",
        "# Using MomentumOptimizer\n",
        "optimizer = tf.train.MomentumOptimizer(learning_rate=learning_rate,\n",
        "                                       momentum=0.9)\n",
        "\n",
        "# Minimize MSE\n",
        "training_op = optimizer.minimize(mse)\n",
        "\n",
        "# Initialize global variables\n",
        "init = tf.global_variables_initializer()\n",
        "\n",
        "with tf.Session() as sess:\n",
        "    sess.run(init)\n",
        "\n",
        "    for epoch in range(n_epochs):\n",
        "        if epoch % 100 == 0: # Print out MSE every 100 iterations\n",
        "            print(\"Epoch {} MSE={}\".format(epoch, mse.eval()))\n",
        "        sess.run(training_op)\n",
        "    \n",
        "    best_theta = theta.eval()\n",
        "\n",
        "print(\"Best theta: \", best_theta)"
      ],
      "execution_count": 0,
      "outputs": [
        {
          "output_type": "stream",
          "text": [
            "Epoch 0 MSE=12.779354095458984\n",
            "Epoch 100 MSE=0.5309959053993225\n",
            "Epoch 200 MSE=0.5249325037002563\n",
            "Epoch 300 MSE=0.5243979692459106\n",
            "Epoch 400 MSE=0.5243311524391174\n",
            "Epoch 500 MSE=0.5243222713470459\n",
            "Epoch 600 MSE=0.5243211984634399\n",
            "Epoch 700 MSE=0.5243210196495056\n",
            "Epoch 800 MSE=0.5243210196495056\n",
            "Epoch 900 MSE=0.5243209600448608\n",
            "Best theta:  [[ 2.0685577 ]\n",
            " [ 0.829628  ]\n",
            " [ 0.11875325]\n",
            " [-0.2655432 ]\n",
            " [ 0.30570975]\n",
            " [-0.00450255]\n",
            " [-0.03932659]\n",
            " [-0.8998659 ]\n",
            " [-0.8705223 ]]\n"
          ],
          "name": "stdout"
        }
      ]
    },
    {
      "cell_type": "code",
      "metadata": {
        "id": "HK3cye1rgRuA",
        "colab_type": "code",
        "colab": {}
      },
      "source": [
        "tf.reset_default_graph()"
      ],
      "execution_count": 0,
      "outputs": []
    },
    {
      "cell_type": "markdown",
      "metadata": {
        "id": "Vq8AiMtNnY9T",
        "colab_type": "text"
      },
      "source": [
        "# Saving Models\n",
        "\n"
      ]
    },
    {
      "cell_type": "code",
      "metadata": {
        "colab_type": "code",
        "outputId": "af7c9dbc-2161-4742-a3f3-af97812cc1cd",
        "id": "7NKZDa23npjW",
        "colab": {
          "base_uri": "https://localhost:8080/",
          "height": 340
        }
      },
      "source": [
        "n_epochs = 1000\n",
        "learning_rate = 0.01\n",
        "\n",
        "X = tf.constant(scaled_housing_data_plus_bias, dtype=tf.float32, name='X')\n",
        "y = tf.constant(housing.target.reshape(-1, 1), dtype=tf.float32, name='y')\n",
        "\n",
        "# Randomly initialize a tensor theta, tf.random_uniform() similar to np.rand()\n",
        "theta = tf.Variable(tf.random_uniform([n+1, 1], -1.0, 1.0), name='theta')\n",
        "\n",
        "y_pred = tf.matmul(X, theta, name='predictions')\n",
        "error = y_pred - y\n",
        "\n",
        "# Mean Square Error, tf.reduce_mean similar to np.mean()\n",
        "mse = tf.reduce_mean(tf.square(error), name='mse')\n",
        "\n",
        "# Using GradientDescentOptimizer\n",
        "optimizer = tf.train.GradientDescentOptimizer(learning_rate=learning_rate)\n",
        "\n",
        "# Minimize MSE\n",
        "training_op = optimizer.minimize(mse)\n",
        "\n",
        "# Initialize global variables\n",
        "init = tf.global_variables_initializer()\n",
        "\n",
        "# Create Saver node\n",
        "saver = tf.train.Saver()\n",
        "\n",
        "with tf.Session() as sess:\n",
        "    sess.run(init)\n",
        "\n",
        "    for epoch in range(n_epochs):\n",
        "        if epoch % 100 == 0: # Print out MSE every 100 iterations\n",
        "            print(\"Epoch {} MSE={}\".format(epoch, mse.eval()))\n",
        "            save_path = saver.save(sess, \"/tmp/my_model.ckpt\") # Save checkpoints\n",
        "        sess.run(training_op)\n",
        "    \n",
        "    best_theta = theta.eval()\n",
        "    save_path = saver.save(sess, \"/tmp/my_model_final.ckpt\")\n",
        "\n",
        "print(\"Best theta: \", best_theta)"
      ],
      "execution_count": 0,
      "outputs": [
        {
          "output_type": "stream",
          "text": [
            "Epoch 0 MSE=13.226840019226074\n",
            "Epoch 100 MSE=0.7598133087158203\n",
            "Epoch 200 MSE=0.5662651658058167\n",
            "Epoch 300 MSE=0.5548070073127747\n",
            "Epoch 400 MSE=0.5485891103744507\n",
            "Epoch 500 MSE=0.5437779426574707\n",
            "Epoch 600 MSE=0.5399841666221619\n",
            "Epoch 700 MSE=0.5369762778282166\n",
            "Epoch 800 MSE=0.5345802307128906\n",
            "Epoch 900 MSE=0.5326635241508484\n",
            "Best theta:  [[ 2.0685525 ]\n",
            " [ 0.898035  ]\n",
            " [ 0.14359006]\n",
            " [-0.3723234 ]\n",
            " [ 0.38412875]\n",
            " [ 0.00364512]\n",
            " [-0.04288624]\n",
            " [-0.6545801 ]\n",
            " [-0.6321115 ]]\n"
          ],
          "name": "stdout"
        }
      ]
    },
    {
      "cell_type": "code",
      "metadata": {
        "id": "vCWpWsNpqEaO",
        "colab_type": "code",
        "colab": {}
      },
      "source": [
        "tf.reset_default_graph()"
      ],
      "execution_count": 0,
      "outputs": []
    },
    {
      "cell_type": "markdown",
      "metadata": {
        "id": "kbEXzkidqPuI",
        "colab_type": "text"
      },
      "source": [
        "# Restoring Models"
      ]
    },
    {
      "cell_type": "markdown",
      "metadata": {
        "id": "kk7CmcNjq8s8",
        "colab_type": "text"
      },
      "source": [
        "## 1. Restoring varialbes only"
      ]
    },
    {
      "cell_type": "code",
      "metadata": {
        "id": "Jq-Mu7vPqGmS",
        "colab_type": "code",
        "outputId": "dc0027d3-8a96-48fc-b1d6-60a3f75b42cd",
        "colab": {
          "base_uri": "https://localhost:8080/",
          "height": 34
        }
      },
      "source": [
        "n_epochs = 1000\n",
        "learning_rate = 0.01\n",
        "\n",
        "X = tf.constant(scaled_housing_data_plus_bias, dtype=tf.float32, name='X')\n",
        "y = tf.constant(housing.target.reshape(-1, 1), dtype=tf.float32, name='y')\n",
        "\n",
        "# Randomly initialize a tensor theta, tf.random_uniform() similar to np.rand()\n",
        "theta = tf.Variable(tf.random_uniform([n+1, 1], -1.0, 1.0), name='theta')\n",
        "\n",
        "y_pred = tf.matmul(X, theta, name='predictions')\n",
        "error = y_pred - y\n",
        "\n",
        "# Mean Square Error, tf.reduce_mean similar to np.mean()\n",
        "mse = tf.reduce_mean(tf.square(error), name='mse')\n",
        "\n",
        "# Using GradientDescentOptimizer\n",
        "optimizer = tf.train.GradientDescentOptimizer(learning_rate=learning_rate)\n",
        "\n",
        "# Minimize MSE\n",
        "training_op = optimizer.minimize(mse)\n",
        "\n",
        "# Initialize global variables\n",
        "init = tf.global_variables_initializer()\n",
        "\n",
        "saver = tf.train.Saver()\n",
        "\n",
        "with tf.Session() as sess:\n",
        "    saver.restore(sess, \"/tmp/my_model_final.ckpt\")\n",
        "    best_theta_restored = theta.eval()"
      ],
      "execution_count": 0,
      "outputs": [
        {
          "output_type": "stream",
          "text": [
            "INFO:tensorflow:Restoring parameters from /tmp/my_model_final.ckpt\n"
          ],
          "name": "stdout"
        }
      ]
    },
    {
      "cell_type": "code",
      "metadata": {
        "id": "NqAUSnQBrfKv",
        "colab_type": "code",
        "outputId": "63b12ff1-eca7-4c78-c2f8-004ec5635c2d",
        "colab": {
          "base_uri": "https://localhost:8080/",
          "height": 170
        }
      },
      "source": [
        "best_theta_restored"
      ],
      "execution_count": 0,
      "outputs": [
        {
          "output_type": "execute_result",
          "data": {
            "text/plain": [
              "array([[ 2.0685525 ],\n",
              "       [ 0.898035  ],\n",
              "       [ 0.14359006],\n",
              "       [-0.3723234 ],\n",
              "       [ 0.38412875],\n",
              "       [ 0.00364512],\n",
              "       [-0.04288624],\n",
              "       [-0.6545801 ],\n",
              "       [-0.6321115 ]], dtype=float32)"
            ]
          },
          "metadata": {
            "tags": []
          },
          "execution_count": 24
        }
      ]
    },
    {
      "cell_type": "code",
      "metadata": {
        "id": "cGScFhB2sNcT",
        "colab_type": "code",
        "colab": {}
      },
      "source": [
        "tf.reset_default_graph()"
      ],
      "execution_count": 0,
      "outputs": []
    },
    {
      "cell_type": "markdown",
      "metadata": {
        "id": "XY-Sw0l8sW47",
        "colab_type": "text"
      },
      "source": [
        "## 2. Restore both the graph structure and trained variables"
      ]
    },
    {
      "cell_type": "code",
      "metadata": {
        "id": "5LoVr5dasSWK",
        "colab_type": "code",
        "outputId": "00c568f7-ab62-4f9d-ab4a-c06efaf6f07e",
        "colab": {
          "base_uri": "https://localhost:8080/",
          "height": 34
        }
      },
      "source": [
        "# Restore the graph structure\n",
        "saver = tf.train.import_meta_graph(\"/tmp/my_model_final.ckpt.meta\")\n",
        "\n",
        "# Still need to define theta\n",
        "theta = tf.get_default_graph().get_tensor_by_name(\"theta:0\")\n",
        "\n",
        "with tf.Session() as sess:\n",
        "    saver.restore(sess, \"/tmp/my_model_final.ckpt\") # Restore trained variables\n",
        "    best_theta_restored = theta.eval()"
      ],
      "execution_count": 0,
      "outputs": [
        {
          "output_type": "stream",
          "text": [
            "INFO:tensorflow:Restoring parameters from /tmp/my_model_final.ckpt\n"
          ],
          "name": "stdout"
        }
      ]
    },
    {
      "cell_type": "code",
      "metadata": {
        "id": "6BihCR2PtqFn",
        "colab_type": "code",
        "outputId": "adee2d76-4694-4f9a-d03d-935fa2ce4551",
        "colab": {
          "base_uri": "https://localhost:8080/",
          "height": 170
        }
      },
      "source": [
        "best_theta_restored"
      ],
      "execution_count": 0,
      "outputs": [
        {
          "output_type": "execute_result",
          "data": {
            "text/plain": [
              "array([[ 2.0685525 ],\n",
              "       [ 0.898035  ],\n",
              "       [ 0.14359006],\n",
              "       [-0.3723234 ],\n",
              "       [ 0.38412875],\n",
              "       [ 0.00364512],\n",
              "       [-0.04288624],\n",
              "       [-0.6545801 ],\n",
              "       [-0.6321115 ]], dtype=float32)"
            ]
          },
          "metadata": {
            "tags": []
          },
          "execution_count": 30
        }
      ]
    }
  ]
}