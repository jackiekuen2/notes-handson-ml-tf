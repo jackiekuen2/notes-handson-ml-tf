{
  "nbformat": 4,
  "nbformat_minor": 0,
  "metadata": {
    "colab": {
      "name": "ch5_ExerciseQ8_SVMIris.ipynb",
      "provenance": [],
      "collapsed_sections": [],
      "authorship_tag": "ABX9TyMWvNRDiPXQEVnl3IcnOrzh",
      "include_colab_link": true
    },
    "kernelspec": {
      "name": "python3",
      "display_name": "Python 3"
    }
  },
  "cells": [
    {
      "cell_type": "markdown",
      "metadata": {
        "id": "view-in-github",
        "colab_type": "text"
      },
      "source": [
        "<a href=\"https://colab.research.google.com/github/jackiekuen2/notes-handson-ml-tf/blob/master/ch5_ExerciseQ8_SVMIris.ipynb\" target=\"_parent\"><img src=\"https://colab.research.google.com/assets/colab-badge.svg\" alt=\"Open In Colab\"/></a>"
      ]
    },
    {
      "cell_type": "markdown",
      "metadata": {
        "id": "Thx9tVo9CzMh",
        "colab_type": "text"
      },
      "source": [
        "LinearSVC vs SVC vs SGDClassifier"
      ]
    },
    {
      "cell_type": "code",
      "metadata": {
        "id": "mzrfIXiQ_9KE",
        "colab_type": "code",
        "colab": {}
      },
      "source": [
        "from sklearn import datasets\n",
        "\n",
        "iris = datasets.load_iris()\n",
        "\n",
        "X = iris['data']\n",
        "y = iris['target']"
      ],
      "execution_count": 0,
      "outputs": []
    },
    {
      "cell_type": "code",
      "metadata": {
        "id": "reOTcf0dBmPD",
        "colab_type": "code",
        "outputId": "e3c29aeb-d186-4c21-d307-a470f34e81b3",
        "colab": {
          "base_uri": "https://localhost:8080/",
          "height": 34
        }
      },
      "source": [
        "X.shape"
      ],
      "execution_count": 0,
      "outputs": [
        {
          "output_type": "execute_result",
          "data": {
            "text/plain": [
              "(150, 4)"
            ]
          },
          "metadata": {
            "tags": []
          },
          "execution_count": 3
        }
      ]
    },
    {
      "cell_type": "code",
      "metadata": {
        "id": "UnDxq2YpBuiD",
        "colab_type": "code",
        "outputId": "21903ac8-0970-4614-87f4-1fbae8a758a5",
        "colab": {
          "base_uri": "https://localhost:8080/",
          "height": 34
        }
      },
      "source": [
        "y.shape"
      ],
      "execution_count": 0,
      "outputs": [
        {
          "output_type": "execute_result",
          "data": {
            "text/plain": [
              "(150,)"
            ]
          },
          "metadata": {
            "tags": []
          },
          "execution_count": 5
        }
      ]
    },
    {
      "cell_type": "code",
      "metadata": {
        "id": "a7mPCTEBBy6X",
        "colab_type": "code",
        "colab": {}
      },
      "source": [
        "from sklearn.svm import SVC, LinearSVC\n",
        "from sklearn.linear_model import SGDClassifier\n",
        "from sklearn.preprocessing import StandardScaler\n",
        "import numpy as np"
      ],
      "execution_count": 0,
      "outputs": []
    },
    {
      "cell_type": "code",
      "metadata": {
        "id": "ENWdDpsaC7TV",
        "colab_type": "code",
        "outputId": "586a3a3f-7687-40d6-fc58-e92547fc3e1b",
        "colab": {
          "base_uri": "https://localhost:8080/",
          "height": 153
        }
      },
      "source": [
        "C = 5\n",
        "alpha = 1/(C*len(X))\n",
        "\n",
        "linsvc_clf = LinearSVC(C=C, loss='hinge', random_state=42)\n",
        "svm_clf = SVC(kernel='linear', C=C, random_state=42)\n",
        "sgd_clf = SGDClassifier(loss='hinge', learning_rate='constant', eta0=0.001,\n",
        "                        alpha=alpha, max_iter=100000, tol=-np.infty, random_state=42)\n",
        "\n",
        "scaler = StandardScaler()\n",
        "X_scaled = scaler.fit_transform(X)\n",
        "\n",
        "linsvc_clf.fit(X_scaled, y)\n",
        "svm_clf.fit(X_scaled, y)\n",
        "sgd_clf.fit(X_scaled, y)\n"
      ],
      "execution_count": 0,
      "outputs": [
        {
          "output_type": "stream",
          "text": [
            "/usr/local/lib/python3.6/dist-packages/sklearn/svm/_base.py:947: ConvergenceWarning: Liblinear failed to converge, increase the number of iterations.\n",
            "  \"the number of iterations.\", ConvergenceWarning)\n"
          ],
          "name": "stderr"
        },
        {
          "output_type": "execute_result",
          "data": {
            "text/plain": [
              "SGDClassifier(alpha=0.0013333333333333333, average=False, class_weight=None,\n",
              "              early_stopping=False, epsilon=0.1, eta0=0.001, fit_intercept=True,\n",
              "              l1_ratio=0.15, learning_rate='constant', loss='hinge',\n",
              "              max_iter=100000, n_iter_no_change=5, n_jobs=None, penalty='l2',\n",
              "              power_t=0.5, random_state=42, shuffle=True, tol=-inf,\n",
              "              validation_fraction=0.1, verbose=0, warm_start=False)"
            ]
          },
          "metadata": {
            "tags": []
          },
          "execution_count": 9
        }
      ]
    },
    {
      "cell_type": "code",
      "metadata": {
        "id": "Op-LV8BgEgql",
        "colab_type": "code",
        "outputId": "69eb35c5-faf3-44c3-ae53-ca260ee5a71e",
        "colab": {
          "base_uri": "https://localhost:8080/",
          "height": 170
        }
      },
      "source": [
        "print('LinearSVC:', linsvc_clf.intercept_, linsvc_clf.coef_)\n",
        "print('SVC: ', svm_clf.intercept_, svm_clf.coef_)\n",
        "print('SGD: ', sgd_clf.intercept_, sgd_clf.coef_)"
      ],
      "execution_count": 0,
      "outputs": [
        {
          "output_type": "stream",
          "text": [
            "LinearSVC: [-0.9185277  -0.76494797 -3.59059202] [[-0.12688769  0.57417632 -0.87244637 -1.2620236 ]\n",
            " [ 0.00324716 -1.00811579  1.93678887 -1.98145019]\n",
            " [-0.33110363 -0.69799813  3.07951677  2.78445079]]\n",
            "SVC:  [-1.47408609 -0.29523178  3.95010556] [[-0.43882206  0.33180056 -0.89190361 -0.92297181]\n",
            " [-0.06460811  0.1389477  -0.55334547 -0.55657227]\n",
            " [ 0.43512977  0.70980043 -3.3251531  -3.24613868]]\n",
            "SGD:  [-1.475 -0.768 -3.943] [[-0.43473183  0.33216053 -0.89938196 -0.92135285]\n",
            " [ 0.01097908 -1.00649751  1.93983457 -1.98746097]\n",
            " [-0.44018429 -0.70655832  3.33513706  3.23187964]]\n"
          ],
          "name": "stdout"
        }
      ]
    }
  ]
}