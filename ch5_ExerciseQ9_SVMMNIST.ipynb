{
  "nbformat": 4,
  "nbformat_minor": 0,
  "metadata": {
    "colab": {
      "name": "ch5_ExerciseQ9_SVMMNIST.ipynb",
      "provenance": [],
      "collapsed_sections": [],
      "authorship_tag": "ABX9TyOUoJ2VtzS1UEc/QUAwhBtv",
      "include_colab_link": true
    },
    "kernelspec": {
      "name": "python3",
      "display_name": "Python 3"
    }
  },
  "cells": [
    {
      "cell_type": "markdown",
      "metadata": {
        "id": "view-in-github",
        "colab_type": "text"
      },
      "source": [
        "<a href=\"https://colab.research.google.com/github/jackiekuen2/notes-handson-ml-tf/blob/master/ch5_ExerciseQ9_SVMMNIST.ipynb\" target=\"_parent\"><img src=\"https://colab.research.google.com/assets/colab-badge.svg\" alt=\"Open In Colab\"/></a>"
      ]
    },
    {
      "cell_type": "markdown",
      "metadata": {
        "id": "Hdu78-ieMpu8",
        "colab_type": "text"
      },
      "source": [
        "- SVM Classifier on MNIST dataset\n",
        "    - Linear SVM\n",
        "    - Linear SVM, with scaled data\n",
        "    - RBF SVM, with scaled data\n",
        "- Hyperparameters Tuning"
      ]
    },
    {
      "cell_type": "code",
      "metadata": {
        "id": "ncBFY3gYMYk2",
        "colab_type": "code",
        "colab": {}
      },
      "source": [
        "from sklearn.datasets import fetch_openml\n",
        "mnist = fetch_openml('mnist_784', version=1, cache=True)"
      ],
      "execution_count": 0,
      "outputs": []
    },
    {
      "cell_type": "code",
      "metadata": {
        "id": "rMRI7O0uNjW6",
        "colab_type": "code",
        "colab": {}
      },
      "source": [
        "X = mnist['data']\n",
        "y = mnist['target']\n",
        "\n",
        "X_train = X[:60000] # Take first 60k as training set\n",
        "y_train = y[:60000]\n",
        "X_test = X[60000:]\n",
        "y_test = y[60000:]"
      ],
      "execution_count": 0,
      "outputs": []
    },
    {
      "cell_type": "code",
      "metadata": {
        "id": "4VUlWA8aOUrz",
        "colab_type": "code",
        "colab": {}
      },
      "source": [
        "# Shuffle the training set\n",
        "import numpy as np\n",
        "\n",
        "np.random.seed(42)\n",
        "rnd_idx = np.random.permutation(60000)\n",
        "X_train = X_train[rnd_idx]\n",
        "y_train = y_train[rnd_idx]"
      ],
      "execution_count": 0,
      "outputs": []
    },
    {
      "cell_type": "markdown",
      "metadata": {
        "id": "GF2EzHzNQHSC",
        "colab_type": "text"
      },
      "source": [
        "# 1. Linear SVM classifier, use one-versus-all"
      ]
    },
    {
      "cell_type": "code",
      "metadata": {
        "id": "1R6-lAQKOoYG",
        "colab_type": "code",
        "outputId": "f18fbe6c-af20-43a0-fc90-a2aa50f331a0",
        "colab": {
          "base_uri": "https://localhost:8080/",
          "height": 119
        }
      },
      "source": [
        "# 1. Linear SVM classifier, use one-versus-all by default\n",
        "from sklearn.svm import LinearSVC\n",
        "\n",
        "lin_clf = LinearSVC(random_state=42)\n",
        "lin_clf.fit(X_train[:10000], y_train[:10000])"
      ],
      "execution_count": 0,
      "outputs": [
        {
          "output_type": "stream",
          "text": [
            "/usr/local/lib/python3.6/dist-packages/sklearn/svm/_base.py:947: ConvergenceWarning: Liblinear failed to converge, increase the number of iterations.\n",
            "  \"the number of iterations.\", ConvergenceWarning)\n"
          ],
          "name": "stderr"
        },
        {
          "output_type": "execute_result",
          "data": {
            "text/plain": [
              "LinearSVC(C=1.0, class_weight=None, dual=True, fit_intercept=True,\n",
              "          intercept_scaling=1, loss='squared_hinge', max_iter=1000,\n",
              "          multi_class='ovr', penalty='l2', random_state=42, tol=0.0001,\n",
              "          verbose=0)"
            ]
          },
          "metadata": {
            "tags": []
          },
          "execution_count": 4
        }
      ]
    },
    {
      "cell_type": "code",
      "metadata": {
        "id": "_qJdKvzYPW_s",
        "colab_type": "code",
        "outputId": "0ec47fa4-d556-4093-819e-b51ec37c3403",
        "colab": {
          "base_uri": "https://localhost:8080/",
          "height": 34
        }
      },
      "source": [
        "from sklearn.metrics import accuracy_score\n",
        "\n",
        "y_pred = lin_clf.predict(X_test) # Validation accuracy\n",
        "accuracy_score(y_test, y_pred)"
      ],
      "execution_count": 0,
      "outputs": [
        {
          "output_type": "execute_result",
          "data": {
            "text/plain": [
              "0.8459"
            ]
          },
          "metadata": {
            "tags": []
          },
          "execution_count": 5
        }
      ]
    },
    {
      "cell_type": "markdown",
      "metadata": {
        "id": "WGuqaqfyQOHm",
        "colab_type": "text"
      },
      "source": [
        "Validation accuaracy: 84.6%"
      ]
    },
    {
      "cell_type": "markdown",
      "metadata": {
        "id": "lJSS2LS6QVP5",
        "colab_type": "text"
      },
      "source": [
        "# 2. Linear SVM classifer, with scaled data"
      ]
    },
    {
      "cell_type": "code",
      "metadata": {
        "id": "MoiYOtT9QUxz",
        "colab_type": "code",
        "colab": {}
      },
      "source": [
        "from sklearn.preprocessing import StandardScaler\n",
        "\n",
        "scaler = StandardScaler()\n",
        "X_train_scaled = scaler.fit_transform(X_train.astype(np.float32)) # fit_transform for training set\n",
        "X_test_scaled = scaler.transform(X_test.astype(np.float32)) # trasform ONLY for test set"
      ],
      "execution_count": 0,
      "outputs": []
    },
    {
      "cell_type": "code",
      "metadata": {
        "id": "772nyXzQQRiz",
        "colab_type": "code",
        "outputId": "4ccf6467-381f-4bfd-e93e-f0690af4d0d9",
        "colab": {
          "base_uri": "https://localhost:8080/",
          "height": 119
        }
      },
      "source": [
        "lin_clf = LinearSVC(random_state=42)\n",
        "lin_clf.fit(X_train_scaled[:10000], y_train[:10000])"
      ],
      "execution_count": 0,
      "outputs": [
        {
          "output_type": "stream",
          "text": [
            "/usr/local/lib/python3.6/dist-packages/sklearn/svm/_base.py:947: ConvergenceWarning: Liblinear failed to converge, increase the number of iterations.\n",
            "  \"the number of iterations.\", ConvergenceWarning)\n"
          ],
          "name": "stderr"
        },
        {
          "output_type": "execute_result",
          "data": {
            "text/plain": [
              "LinearSVC(C=1.0, class_weight=None, dual=True, fit_intercept=True,\n",
              "          intercept_scaling=1, loss='squared_hinge', max_iter=1000,\n",
              "          multi_class='ovr', penalty='l2', random_state=42, tol=0.0001,\n",
              "          verbose=0)"
            ]
          },
          "metadata": {
            "tags": []
          },
          "execution_count": 7
        }
      ]
    },
    {
      "cell_type": "code",
      "metadata": {
        "id": "4GSV6PFHRDoS",
        "colab_type": "code",
        "outputId": "48cded61-25ae-4c31-b53d-3a2744ba712a",
        "colab": {
          "base_uri": "https://localhost:8080/",
          "height": 34
        }
      },
      "source": [
        "y_pred = lin_clf.predict(X_test_scaled)\n",
        "accuracy_score(y_test, y_pred)"
      ],
      "execution_count": 0,
      "outputs": [
        {
          "output_type": "execute_result",
          "data": {
            "text/plain": [
              "0.8682"
            ]
          },
          "metadata": {
            "tags": []
          },
          "execution_count": 8
        }
      ]
    },
    {
      "cell_type": "markdown",
      "metadata": {
        "id": "a2KgJXdnTpu0",
        "colab_type": "text"
      },
      "source": [
        "Validation accuracy: 86.2%"
      ]
    },
    {
      "cell_type": "markdown",
      "metadata": {
        "id": "Q0WUsNneWEPS",
        "colab_type": "text"
      },
      "source": [
        "# 3. SVC, use RBF and one-versus-all, with scaled data "
      ]
    },
    {
      "cell_type": "code",
      "metadata": {
        "id": "pKBaQLsTTs2u",
        "colab_type": "code",
        "outputId": "1c8875ea-612d-484a-d21d-e6fe0334697f",
        "colab": {
          "base_uri": "https://localhost:8080/",
          "height": 85
        }
      },
      "source": [
        "from sklearn.svm import SVC\n",
        "\n",
        "svm_clf = SVC(decision_function_shape='ovr', gamma='auto')\n",
        "svm_clf.fit(X_train_scaled[:10000], y_train[:10000])"
      ],
      "execution_count": 0,
      "outputs": [
        {
          "output_type": "execute_result",
          "data": {
            "text/plain": [
              "SVC(C=1.0, break_ties=False, cache_size=200, class_weight=None, coef0=0.0,\n",
              "    decision_function_shape='ovr', degree=3, gamma='auto', kernel='rbf',\n",
              "    max_iter=-1, probability=False, random_state=None, shrinking=True,\n",
              "    tol=0.001, verbose=False)"
            ]
          },
          "metadata": {
            "tags": []
          },
          "execution_count": 9
        }
      ]
    },
    {
      "cell_type": "code",
      "metadata": {
        "id": "DkKDfdU8Wsk8",
        "colab_type": "code",
        "outputId": "2d840b23-16d7-4ac6-ffce-7f46b8c02b90",
        "colab": {
          "base_uri": "https://localhost:8080/",
          "height": 34
        }
      },
      "source": [
        "y_pred = svm_clf.predict(X_test_scaled)\n",
        "accuracy_score(y_test, y_pred)"
      ],
      "execution_count": 0,
      "outputs": [
        {
          "output_type": "execute_result",
          "data": {
            "text/plain": [
              "0.9425"
            ]
          },
          "metadata": {
            "tags": []
          },
          "execution_count": 10
        }
      ]
    },
    {
      "cell_type": "markdown",
      "metadata": {
        "id": "rP4OOY8P3WMQ",
        "colab_type": "text"
      },
      "source": [
        "Validation accuracy: 94.3%"
      ]
    },
    {
      "cell_type": "markdown",
      "metadata": {
        "id": "VOMj8vN735ze",
        "colab_type": "text"
      },
      "source": [
        "## Hyperparameters Tunning with Randomized Search"
      ]
    },
    {
      "cell_type": "code",
      "metadata": {
        "id": "gOgr18Z53pkF",
        "colab_type": "code",
        "outputId": "f8a53c1e-3892-4bfb-9d40-e97a4e1f9838",
        "colab": {
          "base_uri": "https://localhost:8080/",
          "height": 272
        }
      },
      "source": [
        "from sklearn.model_selection import RandomizedSearchCV\n",
        "from scipy.stats import reciprocal, uniform\n",
        "from sklearn.svm import SVC\n",
        "\n",
        "svm_clf = SVC(decision_function_shape='ovr')\n",
        "\n",
        "param_distributions = {\n",
        "    'gamma': reciprocal(0.001, 0.1),\n",
        "    'C': uniform(1, 10)\n",
        "}\n",
        "\n",
        "random_search_cv = RandomizedSearchCV(svm_clf, param_distributions=param_distributions, \n",
        "                                      n_iter=10, cv=3, verbose=2, random_state=42, n_jobs=-1)\n",
        "random_search_cv.fit(X_train_scaled[:1000], y_train[:1000])"
      ],
      "execution_count": 6,
      "outputs": [
        {
          "output_type": "stream",
          "text": [
            "Fitting 3 folds for each of 10 candidates, totalling 30 fits\n"
          ],
          "name": "stdout"
        },
        {
          "output_type": "stream",
          "text": [
            "[Parallel(n_jobs=-1)]: Using backend LokyBackend with 2 concurrent workers.\n",
            "[Parallel(n_jobs=-1)]: Done  30 out of  30 | elapsed:   20.6s finished\n"
          ],
          "name": "stderr"
        },
        {
          "output_type": "execute_result",
          "data": {
            "text/plain": [
              "RandomizedSearchCV(cv=3, error_score=nan,\n",
              "                   estimator=SVC(C=1.0, break_ties=False, cache_size=200,\n",
              "                                 class_weight=None, coef0=0.0,\n",
              "                                 decision_function_shape='ovr', degree=3,\n",
              "                                 gamma='scale', kernel='rbf', max_iter=-1,\n",
              "                                 probability=False, random_state=None,\n",
              "                                 shrinking=True, tol=0.001, verbose=False),\n",
              "                   iid='deprecated', n_iter=10, n_jobs=-1,\n",
              "                   param_distributions={'C': <scipy.stats._distn_infrastructure.rv_frozen object at 0x7fbb615b3940>,\n",
              "                                        'gamma': <scipy.stats._distn_infrastructure.rv_frozen object at 0x7fbb61b16358>},\n",
              "                   pre_dispatch='2*n_jobs', random_state=42, refit=True,\n",
              "                   return_train_score=False, scoring=None, verbose=2)"
            ]
          },
          "metadata": {
            "tags": []
          },
          "execution_count": 6
        }
      ]
    },
    {
      "cell_type": "code",
      "metadata": {
        "id": "sWrSQVyS_I16",
        "colab_type": "code",
        "outputId": "deb98fea-13f4-4603-82ba-20ccdd1125b0",
        "colab": {
          "base_uri": "https://localhost:8080/",
          "height": 85
        }
      },
      "source": [
        "random_search_cv.best_estimator_"
      ],
      "execution_count": 7,
      "outputs": [
        {
          "output_type": "execute_result",
          "data": {
            "text/plain": [
              "SVC(C=2.560186404424365, break_ties=False, cache_size=200, class_weight=None,\n",
              "    coef0=0.0, decision_function_shape='ovr', degree=3,\n",
              "    gamma=0.002051110418843397, kernel='rbf', max_iter=-1, probability=False,\n",
              "    random_state=None, shrinking=True, tol=0.001, verbose=False)"
            ]
          },
          "metadata": {
            "tags": []
          },
          "execution_count": 7
        }
      ]
    },
    {
      "cell_type": "code",
      "metadata": {
        "id": "oxEJdlUu-6Ag",
        "colab_type": "code",
        "outputId": "7fc2a384-887c-4345-d9e5-2c54fb57183b",
        "colab": {
          "base_uri": "https://localhost:8080/",
          "height": 34
        }
      },
      "source": [
        "random_search_cv.best_params_"
      ],
      "execution_count": 8,
      "outputs": [
        {
          "output_type": "execute_result",
          "data": {
            "text/plain": [
              "{'C': 2.560186404424365, 'gamma': 0.002051110418843397}"
            ]
          },
          "metadata": {
            "tags": []
          },
          "execution_count": 8
        }
      ]
    },
    {
      "cell_type": "code",
      "metadata": {
        "id": "QsxJ0sMKL-Km",
        "colab_type": "code",
        "colab": {
          "base_uri": "https://localhost:8080/",
          "height": 34
        },
        "outputId": "41c49959-96f7-4532-a3fa-6a113dc9e1c4"
      },
      "source": [
        "random_search_cv.best_score_"
      ],
      "execution_count": 9,
      "outputs": [
        {
          "output_type": "execute_result",
          "data": {
            "text/plain": [
              "0.8560057063051075"
            ]
          },
          "metadata": {
            "tags": []
          },
          "execution_count": 9
        }
      ]
    },
    {
      "cell_type": "code",
      "metadata": {
        "id": "KRS4Yi5u-rXA",
        "colab_type": "code",
        "outputId": "a1cdbc45-2538-46f4-a4a9-1f46407178bb",
        "colab": {
          "base_uri": "https://localhost:8080/",
          "height": 85
        }
      },
      "source": [
        "# Fit whole training set in random_search_cv best_estimator\n",
        "random_search_cv.best_estimator_.fit(X_train_scaled, y_train)"
      ],
      "execution_count": 10,
      "outputs": [
        {
          "output_type": "execute_result",
          "data": {
            "text/plain": [
              "SVC(C=2.560186404424365, break_ties=False, cache_size=200, class_weight=None,\n",
              "    coef0=0.0, decision_function_shape='ovr', degree=3,\n",
              "    gamma=0.002051110418843397, kernel='rbf', max_iter=-1, probability=False,\n",
              "    random_state=None, shrinking=True, tol=0.001, verbose=False)"
            ]
          },
          "metadata": {
            "tags": []
          },
          "execution_count": 10
        }
      ]
    },
    {
      "cell_type": "code",
      "metadata": {
        "id": "3FrVmh_hA92O",
        "colab_type": "code",
        "outputId": "7c7565b9-106b-4e83-84d0-8301248f8959",
        "colab": {
          "base_uri": "https://localhost:8080/",
          "height": 34
        }
      },
      "source": [
        "from sklearn.metrics import accuracy_score\n",
        "y_pred = random_search_cv.best_estimator_.predict(X_test_scaled)\n",
        "accuracy_score(y_test, y_pred)"
      ],
      "execution_count": 12,
      "outputs": [
        {
          "output_type": "execute_result",
          "data": {
            "text/plain": [
              "0.9708"
            ]
          },
          "metadata": {
            "tags": []
          },
          "execution_count": 12
        }
      ]
    }
  ]
}