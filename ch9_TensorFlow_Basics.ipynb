{
  "nbformat": 4,
  "nbformat_minor": 0,
  "metadata": {
    "colab": {
      "name": "ch9_TensorFlow_Basics.ipynb",
      "provenance": [],
      "collapsed_sections": [],
      "machine_shape": "hm",
      "authorship_tag": "ABX9TyMaGxOTKQ7dt0b6zMA9GN/O",
      "include_colab_link": true
    },
    "kernelspec": {
      "name": "python3",
      "display_name": "Python 3"
    }
  },
  "cells": [
    {
      "cell_type": "markdown",
      "metadata": {
        "id": "view-in-github",
        "colab_type": "text"
      },
      "source": [
        "<a href=\"https://colab.research.google.com/github/jackiekuen2/notes-handson-ml-tf/blob/master/ch9_TensorFlow_Basics.ipynb\" target=\"_parent\"><img src=\"https://colab.research.google.com/assets/colab-badge.svg\" alt=\"Open In Colab\"/></a>"
      ]
    },
    {
      "cell_type": "code",
      "metadata": {
        "id": "zIKqOs1zwZJu",
        "colab_type": "code",
        "colab": {}
      },
      "source": [
        "# a = []\n",
        "# while(1):\n",
        "#     a.append(\"1\")"
      ],
      "execution_count": 0,
      "outputs": []
    },
    {
      "cell_type": "markdown",
      "metadata": {
        "id": "sxZbHbeXDZSC",
        "colab_type": "text"
      },
      "source": [
        "# A"
      ]
    },
    {
      "cell_type": "code",
      "metadata": {
        "id": "_WJxzpTrycsc",
        "colab_type": "code",
        "outputId": "099d619c-1cc8-42da-e0df-ddcdf692d71c",
        "colab": {
          "base_uri": "https://localhost:8080/",
          "height": 51
        }
      },
      "source": [
        "%tensorflow_version 1.x\n",
        "import tensorflow as tf\n",
        "\n",
        "print(tf.__version__)"
      ],
      "execution_count": 0,
      "outputs": [
        {
          "output_type": "stream",
          "text": [
            "TensorFlow 1.x selected.\n",
            "1.15.2\n"
          ],
          "name": "stdout"
        }
      ]
    },
    {
      "cell_type": "code",
      "metadata": {
        "id": "0zkxcAbn0Jbm",
        "colab_type": "code",
        "colab": {}
      },
      "source": [
        "x = tf.Variable(3, name='x')\n",
        "y = tf.Variable(4, name='y')\n",
        "\n",
        "f = x*x*y + y +2\n",
        "\n",
        "init = tf.global_variables_initializer() # prepare an init node"
      ],
      "execution_count": 0,
      "outputs": []
    },
    {
      "cell_type": "markdown",
      "metadata": {
        "id": "j9z5sesn1W4R",
        "colab_type": "text"
      },
      "source": [
        "## with block"
      ]
    },
    {
      "cell_type": "code",
      "metadata": {
        "id": "qeBX-C4T0jMN",
        "colab_type": "code",
        "outputId": "e29c7e53-226a-4088-ca99-d2caa41473a8",
        "colab": {
          "base_uri": "https://localhost:8080/",
          "height": 34
        }
      },
      "source": [
        "with tf.Session() as sess:\n",
        "    init.run() # actually initialize all the variables\n",
        "    result = f.eval()\n",
        "    print(result)"
      ],
      "execution_count": 0,
      "outputs": [
        {
          "output_type": "stream",
          "text": [
            "42\n"
          ],
          "name": "stdout"
        }
      ]
    },
    {
      "cell_type": "markdown",
      "metadata": {
        "id": "cLWPhbHq128z",
        "colab_type": "text"
      },
      "source": [
        "## InteravtiveSession"
      ]
    },
    {
      "cell_type": "code",
      "metadata": {
        "id": "QYorIhxp1s2o",
        "colab_type": "code",
        "outputId": "4514e102-3021-48c8-dc99-9d05520efc16",
        "colab": {
          "base_uri": "https://localhost:8080/",
          "height": 34
        }
      },
      "source": [
        "sess = tf.InteractiveSession()\n",
        "init.run()\n",
        "result = f.eval()\n",
        "\n",
        "print(result)\n",
        "sess.close()"
      ],
      "execution_count": 0,
      "outputs": [
        {
          "output_type": "stream",
          "text": [
            "42\n"
          ],
          "name": "stdout"
        }
      ]
    },
    {
      "cell_type": "code",
      "metadata": {
        "id": "9yjBt5mi48zw",
        "colab_type": "code",
        "colab": {}
      },
      "source": [
        "# Reset the default graph OR restart the kernel\n",
        "tf.reset_default_graph()"
      ],
      "execution_count": 0,
      "outputs": []
    },
    {
      "cell_type": "markdown",
      "metadata": {
        "id": "MuPVz4ka_KRv",
        "colab_type": "text"
      },
      "source": [
        "### TensorFlow detects that it must first evaluate w, then x, then y, and return the value of y"
      ]
    },
    {
      "cell_type": "code",
      "metadata": {
        "id": "h1neHvY24_62",
        "colab_type": "code",
        "outputId": "d9e0e1d7-243d-447a-bc2b-4d91396ca734",
        "colab": {
          "base_uri": "https://localhost:8080/",
          "height": 51
        }
      },
      "source": [
        "w = tf.constant(3)\n",
        "x = w + 2\n",
        "y = x + 5\n",
        "z = x * 3\n",
        "\n",
        "with tf.Session() as sess:\n",
        "    print(y.eval())\n",
        "    print(z.eval())"
      ],
      "execution_count": 0,
      "outputs": [
        {
          "output_type": "stream",
          "text": [
            "10\n",
            "15\n"
          ],
          "name": "stdout"
        }
      ]
    },
    {
      "cell_type": "markdown",
      "metadata": {
        "id": "rTlKNDOyBPtf",
        "colab_type": "text"
      },
      "source": [
        "## B. Linear Regression with TensorFlow (using the Normal Equation)"
      ]
    },
    {
      "cell_type": "code",
      "metadata": {
        "id": "XTAGr9Dx-PSi",
        "colab_type": "code",
        "outputId": "587a49be-92db-440a-b404-0d2b8b6d892d",
        "colab": {
          "base_uri": "https://localhost:8080/",
          "height": 34
        }
      },
      "source": [
        "import numpy as np\n",
        "from sklearn.datasets import fetch_california_housing\n",
        "\n",
        "housing = fetch_california_housing()"
      ],
      "execution_count": 0,
      "outputs": [
        {
          "output_type": "stream",
          "text": [
            "Downloading Cal. housing from https://ndownloader.figshare.com/files/5976036 to /root/scikit_learn_data\n"
          ],
          "name": "stderr"
        }
      ]
    },
    {
      "cell_type": "code",
      "metadata": {
        "id": "GubdiAMhBdue",
        "colab_type": "code",
        "outputId": "27a5757c-136e-4827-a495-d08aeb4b12d9",
        "colab": {
          "base_uri": "https://localhost:8080/",
          "height": 34
        }
      },
      "source": [
        "housing.keys()"
      ],
      "execution_count": 0,
      "outputs": [
        {
          "output_type": "execute_result",
          "data": {
            "text/plain": [
              "dict_keys(['data', 'target', 'feature_names', 'DESCR'])"
            ]
          },
          "metadata": {
            "tags": []
          },
          "execution_count": 9
        }
      ]
    },
    {
      "cell_type": "code",
      "metadata": {
        "id": "F22t_MnkCGof",
        "colab_type": "code",
        "outputId": "26c3b8c3-10a4-4d54-beae-0111655c17d2",
        "colab": {
          "base_uri": "https://localhost:8080/",
          "height": 34
        }
      },
      "source": [
        "housing.data.shape"
      ],
      "execution_count": 0,
      "outputs": [
        {
          "output_type": "execute_result",
          "data": {
            "text/plain": [
              "(20640, 8)"
            ]
          },
          "metadata": {
            "tags": []
          },
          "execution_count": 14
        }
      ]
    },
    {
      "cell_type": "code",
      "metadata": {
        "id": "z-FXm9x2BlNX",
        "colab_type": "code",
        "colab": {}
      },
      "source": [
        "m, n = housing['data'].shape\n",
        "housing_data_plus_bias = np.c_[np.ones((m, 1)), housing.data] # Add and extra bias input feature x0=1"
      ],
      "execution_count": 0,
      "outputs": []
    },
    {
      "cell_type": "code",
      "metadata": {
        "id": "pL0cXPENB5oE",
        "colab_type": "code",
        "outputId": "82aa9ecb-0575-40ef-ae2a-f00b703d522f",
        "colab": {
          "base_uri": "https://localhost:8080/",
          "height": 34
        }
      },
      "source": [
        "# New shape\n",
        "housing_data_plus_bias.shape"
      ],
      "execution_count": 0,
      "outputs": [
        {
          "output_type": "execute_result",
          "data": {
            "text/plain": [
              "(20640, 9)"
            ]
          },
          "metadata": {
            "tags": []
          },
          "execution_count": 15
        }
      ]
    },
    {
      "cell_type": "code",
      "metadata": {
        "id": "jOIicqE0COSq",
        "colab_type": "code",
        "outputId": "c3c49790-d8aa-4e86-a316-44a4e87ed609",
        "colab": {
          "base_uri": "https://localhost:8080/",
          "height": 170
        }
      },
      "source": [
        "X = tf.constant(housing_data_plus_bias, dtype=tf.float32, name='x')\n",
        "y = tf.constant(housing.target.reshape(-1, 1), dtype=tf.float32, name='y') # Reshape 1D array to a column vector\n",
        "XT = tf.transpose(X)\n",
        "theta = tf.matmul(tf.matmul(tf.matrix_inverse(tf.matmul(XT, X)), XT), y)\n",
        "\n",
        "with tf.Session() as sess:\n",
        "    theta_value = theta.eval()\n",
        "    print(theta_value)"
      ],
      "execution_count": 0,
      "outputs": [
        {
          "output_type": "stream",
          "text": [
            "[[-3.6925270e+01]\n",
            " [ 4.3655816e-01]\n",
            " [ 9.4406763e-03]\n",
            " [-1.0701087e-01]\n",
            " [ 6.4314353e-01]\n",
            " [-3.9643537e-06]\n",
            " [-3.7864768e-03]\n",
            " [-4.2121592e-01]\n",
            " [-4.3434715e-01]]\n"
          ],
          "name": "stdout"
        }
      ]
    }
  ]
}