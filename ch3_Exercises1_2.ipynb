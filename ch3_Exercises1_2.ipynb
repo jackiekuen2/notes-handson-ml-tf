{
  "nbformat": 4,
  "nbformat_minor": 0,
  "metadata": {
    "colab": {
      "name": "ch3_Exercises1-2.ipynb",
      "provenance": [],
      "collapsed_sections": [],
      "toc_visible": true,
      "machine_shape": "hm",
      "include_colab_link": true
    },
    "kernelspec": {
      "name": "python3",
      "display_name": "Python 3"
    }
  },
  "cells": [
    {
      "cell_type": "markdown",
      "metadata": {
        "id": "view-in-github",
        "colab_type": "text"
      },
      "source": [
        "<a href=\"https://colab.research.google.com/github/jackiekuen2/notes-handson-ml-tf/blob/master/ch3_Exercises1_2.ipynb\" target=\"_parent\"><img src=\"https://colab.research.google.com/assets/colab-badge.svg\" alt=\"Open In Colab\"/></a>"
      ]
    },
    {
      "cell_type": "code",
      "metadata": {
        "id": "jhNSxdHnvMje",
        "colab_type": "code",
        "colab": {}
      },
      "source": [
        "# a = []\n",
        "# while(1):\n",
        "#     a.append('1')"
      ],
      "execution_count": 0,
      "outputs": []
    },
    {
      "cell_type": "markdown",
      "metadata": {
        "id": "AohYRol8H3QX",
        "colab_type": "text"
      },
      "source": [
        "# 0: Get data"
      ]
    },
    {
      "cell_type": "code",
      "metadata": {
        "id": "ozkPz9rt8ywQ",
        "colab_type": "code",
        "colab": {}
      },
      "source": [
        "from sklearn.datasets import fetch_openml\n",
        "import numpy as np"
      ],
      "execution_count": 0,
      "outputs": []
    },
    {
      "cell_type": "code",
      "metadata": {
        "id": "7SwMQQ779HNl",
        "colab_type": "code",
        "colab": {}
      },
      "source": [
        "mnist = fetch_openml('mnist_784', version=1)\n",
        "# mnist"
      ],
      "execution_count": 0,
      "outputs": []
    },
    {
      "cell_type": "code",
      "metadata": {
        "id": "UcZDoLSfASR2",
        "colab_type": "code",
        "outputId": "46e00ad6-fe99-4f25-ef3c-5cc2bc4a4b7a",
        "colab": {
          "base_uri": "https://localhost:8080/",
          "height": 34
        }
      },
      "source": [
        "mnist.keys()"
      ],
      "execution_count": 4,
      "outputs": [
        {
          "output_type": "execute_result",
          "data": {
            "text/plain": [
              "dict_keys(['data', 'target', 'feature_names', 'DESCR', 'details', 'categories', 'url'])"
            ]
          },
          "metadata": {
            "tags": []
          },
          "execution_count": 4
        }
      ]
    },
    {
      "cell_type": "code",
      "metadata": {
        "id": "H_SNbzegDKtq",
        "colab_type": "code",
        "outputId": "ebbd7b6c-821e-4c27-9cf0-80e8512d8dfd",
        "colab": {
          "base_uri": "https://localhost:8080/",
          "height": 51
        }
      },
      "source": [
        "X, y = mnist['data'], mnist['target']\n",
        "\n",
        "print(X.shape)\n",
        "print(y.shape)"
      ],
      "execution_count": 5,
      "outputs": [
        {
          "output_type": "stream",
          "text": [
            "(70000, 784)\n",
            "(70000,)\n"
          ],
          "name": "stdout"
        }
      ]
    },
    {
      "cell_type": "code",
      "metadata": {
        "id": "DilIwqc5uR0m",
        "colab_type": "code",
        "colab": {}
      },
      "source": [
        "# Change data type of y: string to integers\n",
        "y = y.astype(np.uint8)"
      ],
      "execution_count": 0,
      "outputs": []
    },
    {
      "cell_type": "code",
      "metadata": {
        "id": "TFyHZ4lfEY3T",
        "colab_type": "code",
        "outputId": "02b6e1a6-27d1-4604-f71f-1f41f85a6d01",
        "colab": {
          "base_uri": "https://localhost:8080/",
          "height": 264
        }
      },
      "source": [
        "# Display hand-written digits\n",
        "%matplotlib inline\n",
        "import matplotlib\n",
        "import matplotlib.pyplot as plt\n",
        "\n",
        "index = 616\n",
        "some_digit = X[index]\n",
        "some_digit_image = some_digit.reshape(28, 28)\n",
        "\n",
        "some_digit_label = y[index]\n",
        "\n",
        "plt.imshow(some_digit_image, cmap=matplotlib.cm.binary, interpolation='nearest')\n",
        "plt.axis('off')\n",
        "plt.title('Label: %s' % some_digit_label)\n",
        "plt.show()"
      ],
      "execution_count": 7,
      "outputs": [
        {
          "output_type": "display_data",
          "data": {
            "image/png": "[encoded data removed]",
            "text/plain": [
              "<Figure size 432x288 with 1 Axes>"
            ]
          },
          "metadata": {
            "tags": []
          }
        }
      ]
    },
    {
      "cell_type": "markdown",
      "metadata": {
        "id": "mfqIJ2fjHuOp",
        "colab_type": "text"
      },
      "source": [
        "# 1: Split into training set and test set + Shuffling\n",
        "- This data set is already shuffled"
      ]
    },
    {
      "cell_type": "code",
      "metadata": {
        "id": "suxR9aEVHpen",
        "colab_type": "code",
        "outputId": "da3e6677-b911-4793-e6d3-532cbae2c461",
        "colab": {
          "base_uri": "https://localhost:8080/",
          "height": 85
        }
      },
      "source": [
        "X_train, X_test, y_train, y_test = X[:60000], X[60000:], y[:60000], y[60000:]\n",
        "\n",
        "print(X_train.shape)\n",
        "print(X_test.shape)\n",
        "print(y_train.shape)\n",
        "print(y_test.shape)"
      ],
      "execution_count": 8,
      "outputs": [
        {
          "output_type": "stream",
          "text": [
            "(60000, 784)\n",
            "(10000, 784)\n",
            "(60000,)\n",
            "(10000,)\n"
          ],
          "name": "stdout"
        }
      ]
    },
    {
      "cell_type": "markdown",
      "metadata": {
        "id": "3XxWkMmwnLWB",
        "colab_type": "text"
      },
      "source": [
        "## Exercise1: Classifier >97% accuracy\n",
        "- Find promising classifier\n",
        "- Grid Search CV for hyperparameters tuning\n",
        "- Save the best model to Google Drive"
      ]
    },
    {
      "cell_type": "code",
      "metadata": {
        "id": "XkpQI8f3JZu4",
        "colab_type": "code",
        "outputId": "b833d56f-cbd9-4997-a285-6dea53b9980d",
        "colab": {
          "base_uri": "https://localhost:8080/",
          "height": 68
        }
      },
      "source": [
        "# 1. Try RandomForest\n",
        "from sklearn.ensemble import RandomForestClassifier\n",
        "from sklearn.model_selection import cross_val_score\n",
        "\n",
        "forest_clf = RandomForestClassifier()\n",
        "cross_val_score(forest_clf, X_train, y_train, cv=3, scoring='accuracy',\n",
        "                n_jobs=-1, verbose=1)"
      ],
      "execution_count": 0,
      "outputs": [
        {
          "output_type": "stream",
          "text": [
            "[Parallel(n_jobs=-1)]: Using backend LokyBackend with 4 concurrent workers.\n",
            "[Parallel(n_jobs=-1)]: Done   3 out of   3 | elapsed:    6.1s finished\n"
          ],
          "name": "stderr"
        },
        {
          "output_type": "execute_result",
          "data": {
            "text/plain": [
              "array([0.93676265, 0.93849692, 0.94144122])"
            ]
          },
          "metadata": {
            "tags": []
          },
          "execution_count": 10
        }
      ]
    },
    {
      "cell_type": "code",
      "metadata": {
        "id": "Gm5IK2XWxn9b",
        "colab_type": "code",
        "outputId": "31af90d7-e98d-4e11-d136-a419a330f768",
        "colab": {
          "base_uri": "https://localhost:8080/",
          "height": 68
        }
      },
      "source": [
        "# 2. Try K-Nearest Neighbors\n",
        "from sklearn.neighbors import KNeighborsClassifier\n",
        "\n",
        "knn_clf = KNeighborsClassifier()\n",
        "cross_val_score(knn_clf, X_train, y_train, cv=3, scoring='accuracy',\n",
        "                n_jobs=-1, verbose=1)"
      ],
      "execution_count": 0,
      "outputs": [
        {
          "output_type": "stream",
          "text": [
            "[Parallel(n_jobs=-1)]: Using backend LokyBackend with 4 concurrent workers.\n",
            "[Parallel(n_jobs=-1)]: Done   3 out of   3 | elapsed: 28.7min finished\n"
          ],
          "name": "stderr"
        },
        {
          "output_type": "execute_result",
          "data": {
            "text/plain": [
              "array([0.96760648, 0.96704835, 0.96754513])"
            ]
          },
          "metadata": {
            "tags": []
          },
          "execution_count": 11
        }
      ]
    },
    {
      "cell_type": "code",
      "metadata": {
        "id": "nsR3_3ZmyDus",
        "colab_type": "code",
        "outputId": "04bfeaf5-7ef9-4892-ccbe-2699103b870f",
        "colab": {
          "base_uri": "https://localhost:8080/",
          "height": 68
        }
      },
      "source": [
        "from sklearn.svm import LinearSVC\n",
        "\n",
        "svc_clf = LinearSVC()\n",
        "cross_val_score(svc_clf, X_train, y_train, cv=3, scoring='accuracy',\n",
        "                n_jobs=-1, verbose=1)"
      ],
      "execution_count": 0,
      "outputs": [
        {
          "output_type": "stream",
          "text": [
            "[Parallel(n_jobs=-1)]: Using backend LokyBackend with 4 concurrent workers.\n",
            "[Parallel(n_jobs=-1)]: Done   3 out of   3 | elapsed:  2.6min finished\n"
          ],
          "name": "stderr"
        },
        {
          "output_type": "execute_result",
          "data": {
            "text/plain": [
              "array([0.84553089, 0.8300415 , 0.87873181])"
            ]
          },
          "metadata": {
            "tags": []
          },
          "execution_count": 12
        }
      ]
    },
    {
      "cell_type": "markdown",
      "metadata": {
        "id": "SgyugfUc9KFg",
        "colab_type": "text"
      },
      "source": [
        "Select KNN Classifier, for hyperparameters tuning"
      ]
    },
    {
      "cell_type": "code",
      "metadata": {
        "id": "fhdKLTDAlm_z",
        "colab_type": "code",
        "outputId": "3d3c4631-94d8-43bb-bfc2-4752e656c7e8",
        "colab": {
          "base_uri": "https://localhost:8080/",
          "height": 309
        }
      },
      "source": [
        "from sklearn.neighbors import KNeighborsClassifier\n",
        "from sklearn.model_selection import GridSearchCV\n",
        "\n",
        "knn_clf = KNeighborsClassifier()\n",
        "param_grid = [{\n",
        "    'weights': ['uniform', 'distance'], \n",
        "    'n_neighbors': [4, 5, 6]\n",
        "    }]\n",
        "\n",
        "grid_search = GridSearchCV(knn_clf, param_grid, cv=3, scoring='accuracy', \n",
        "                           verbose=1, n_jobs=-1)\n",
        "grid_search.fit(X_train, y_train)"
      ],
      "execution_count": 0,
      "outputs": [
        {
          "output_type": "stream",
          "text": [
            "Fitting 3 folds for each of 6 candidates, totalling 18 fits\n"
          ],
          "name": "stdout"
        },
        {
          "output_type": "stream",
          "text": [
            "[Parallel(n_jobs=-1)]: Using backend LokyBackend with 4 concurrent workers.\n",
            "/usr/local/lib/python3.6/dist-packages/joblib/externals/loky/process_executor.py:706: UserWarning: A worker stopped while some jobs were given to the executor. This can be caused by a too short worker timeout or by a memory leak.\n",
            "  \"timeout or by a memory leak.\", UserWarning\n",
            "[Parallel(n_jobs=-1)]: Done  18 out of  18 | elapsed: 146.6min finished\n"
          ],
          "name": "stderr"
        },
        {
          "output_type": "execute_result",
          "data": {
            "text/plain": [
              "GridSearchCV(cv=3, error_score='raise-deprecating',\n",
              "             estimator=KNeighborsClassifier(algorithm='auto', leaf_size=30,\n",
              "                                            metric='minkowski',\n",
              "                                            metric_params=None, n_jobs=None,\n",
              "                                            n_neighbors=5, p=2,\n",
              "                                            weights='uniform'),\n",
              "             iid='warn', n_jobs=-1,\n",
              "             param_grid=[{'n_neighbors': [4, 5, 6],\n",
              "                          'weights': ['uniform', 'distance']}],\n",
              "             pre_dispatch='2*n_jobs', refit=True, return_train_score=False,\n",
              "             scoring='accuracy', verbose=1)"
            ]
          },
          "metadata": {
            "tags": []
          },
          "execution_count": 10
        }
      ]
    },
    {
      "cell_type": "code",
      "metadata": {
        "id": "XWD_UjNL9TAr",
        "colab_type": "code",
        "outputId": "3c50fb2c-55a3-450c-c1c6-70dd13ba913b",
        "colab": {
          "base_uri": "https://localhost:8080/",
          "height": 68
        }
      },
      "source": [
        "grid_search.best_estimator_"
      ],
      "execution_count": 0,
      "outputs": [
        {
          "output_type": "execute_result",
          "data": {
            "text/plain": [
              "KNeighborsClassifier(algorithm='auto', leaf_size=30, metric='minkowski',\n",
              "                     metric_params=None, n_jobs=None, n_neighbors=4, p=2,\n",
              "                     weights='distance')"
            ]
          },
          "metadata": {
            "tags": []
          },
          "execution_count": 11
        }
      ]
    },
    {
      "cell_type": "code",
      "metadata": {
        "id": "zmCTu4Q_9YHz",
        "colab_type": "code",
        "outputId": "297e8ee3-0a5d-43a4-b357-05689ffe4a0a",
        "colab": {
          "base_uri": "https://localhost:8080/",
          "height": 34
        }
      },
      "source": [
        "# Training accuracy\n",
        "grid_search.best_score_"
      ],
      "execution_count": 0,
      "outputs": [
        {
          "output_type": "execute_result",
          "data": {
            "text/plain": [
              "0.9703333333333334"
            ]
          },
          "metadata": {
            "tags": []
          },
          "execution_count": 12
        }
      ]
    },
    {
      "cell_type": "code",
      "metadata": {
        "id": "j4vjstCPndn-",
        "colab_type": "code",
        "outputId": "b5b44bee-726e-4458-827e-498dcc8d9bc8",
        "colab": {
          "base_uri": "https://localhost:8080/",
          "height": 34
        }
      },
      "source": [
        "grid_search.best_params_"
      ],
      "execution_count": 0,
      "outputs": [
        {
          "output_type": "execute_result",
          "data": {
            "text/plain": [
              "{'n_neighbors': 4, 'weights': 'distance'}"
            ]
          },
          "metadata": {
            "tags": []
          },
          "execution_count": 13
        }
      ]
    },
    {
      "cell_type": "code",
      "metadata": {
        "id": "9aZIAzpBn_Vk",
        "colab_type": "code",
        "colab": {}
      },
      "source": [
        "ch3_q1_bestmodel = grid_search.best_estimator_"
      ],
      "execution_count": 0,
      "outputs": []
    },
    {
      "cell_type": "code",
      "metadata": {
        "id": "miFwXZrHoJpj",
        "colab_type": "code",
        "outputId": "8c11bcf8-37d7-4930-d89e-27bb92db7ff2",
        "colab": {
          "base_uri": "https://localhost:8080/",
          "height": 88
        }
      },
      "source": [
        "# Back up the model\n",
        "from sklearn.externals import joblib\n",
        "\n",
        "joblib.dump(ch3_q1_bestmodel, \"ch3_q1_bestmodel_knnclf.pkl\")"
      ],
      "execution_count": 0,
      "outputs": [
        {
          "output_type": "stream",
          "text": [
            "/usr/local/lib/python3.6/dist-packages/sklearn/externals/joblib/__init__.py:15: DeprecationWarning: sklearn.externals.joblib is deprecated in 0.21 and will be removed in 0.23. Please import this functionality directly from joblib, which can be installed with: pip install joblib. If this warning is raised when loading pickled models, you may need to re-serialize those models with scikit-learn 0.21+.\n",
            "  warnings.warn(msg, category=DeprecationWarning)\n"
          ],
          "name": "stderr"
        },
        {
          "output_type": "execute_result",
          "data": {
            "text/plain": [
              "['ch3_q1_bestmodel_knnclf.pkl']"
            ]
          },
          "metadata": {
            "tags": []
          },
          "execution_count": 16
        }
      ]
    },
    {
      "cell_type": "code",
      "metadata": {
        "id": "EuS1qLwjrJaQ",
        "colab_type": "code",
        "outputId": "116b3391-780c-40c2-ad00-43be94395f62",
        "colab": {
          "base_uri": "https://localhost:8080/",
          "height": 34
        }
      },
      "source": [
        "from google.colab import drive\n",
        "drive.mount('/content/gdrive')"
      ],
      "execution_count": 0,
      "outputs": [
        {
          "output_type": "stream",
          "text": [
            "Drive already mounted at /content/gdrive; to attempt to forcibly remount, call drive.mount(\"/content/gdrive\", force_remount=True).\n"
          ],
          "name": "stdout"
        }
      ]
    },
    {
      "cell_type": "code",
      "metadata": {
        "id": "qBFmOFrArfSD",
        "colab_type": "code",
        "outputId": "58b6128d-5737-4415-d963-e5dbdd907e57",
        "colab": {
          "base_uri": "https://localhost:8080/",
          "height": 34
        }
      },
      "source": [
        "joblib.dump(ch3_q1_bestmodel, \"gdrive/My Drive/Colab Notebooks/Hands-on ML TF/ch3_q1_bestmodel_knnclf.pkl\")"
      ],
      "execution_count": 0,
      "outputs": [
        {
          "output_type": "execute_result",
          "data": {
            "text/plain": [
              "['gdrive/My Drive/Colab Notebooks/Hands-on ML TF/ch3_q1_bestmodel_knnclf.pkl']"
            ]
          },
          "metadata": {
            "tags": []
          },
          "execution_count": 20
        }
      ]
    },
    {
      "cell_type": "code",
      "metadata": {
        "id": "LVxZRs3ktLdS",
        "colab_type": "code",
        "outputId": "0c50d21e-56ea-43ba-fa74-e9274f471b26",
        "colab": {
          "base_uri": "https://localhost:8080/",
          "height": 51
        }
      },
      "source": [
        "# Testing grid-search's best model\n",
        "test_index = 819\n",
        "print(\"True test value: \", y_test[test_index])\n",
        "print(\"Prediction: \", ch3_q1_bestmodel.predict(X_test[test_index].reshape(1,-1)))"
      ],
      "execution_count": 0,
      "outputs": [
        {
          "output_type": "stream",
          "text": [
            "True test value:  3\n",
            "Prediction:  [3]\n"
          ],
          "name": "stdout"
        }
      ]
    },
    {
      "cell_type": "code",
      "metadata": {
        "id": "zGTRH4nTuQRk",
        "colab_type": "code",
        "colab": {}
      },
      "source": [
        "# Accuracy score from grid-search's best model\n",
        "from sklearn.metrics import accuracy_score\n",
        "\n",
        "y_pred = grid_search.predict(X_test)\n"
      ],
      "execution_count": 0,
      "outputs": []
    },
    {
      "cell_type": "code",
      "metadata": {
        "id": "DFcRWEJ9zn7q",
        "colab_type": "code",
        "outputId": "eca186b3-6de1-4231-e7c0-f92286f0a39b",
        "colab": {
          "base_uri": "https://localhost:8080/",
          "height": 51
        }
      },
      "source": [
        "print(\"First 10 true labels: \", y_test[:10])\n",
        "print(\"First 10 predictions: \", y_pred[:10])"
      ],
      "execution_count": 0,
      "outputs": [
        {
          "output_type": "stream",
          "text": [
            "First 10 true labels:  [7 2 1 0 4 1 4 9 5 9]\n",
            "First 10 predictions:  [7 2 1 0 4 1 4 9 5 9]\n"
          ],
          "name": "stdout"
        }
      ]
    },
    {
      "cell_type": "code",
      "metadata": {
        "id": "tHD3RFPpvlsw",
        "colab_type": "code",
        "outputId": "b629a666-6a7e-47df-f781-5718ce2bfc89",
        "colab": {
          "base_uri": "https://localhost:8080/",
          "height": 34
        }
      },
      "source": [
        "# Test accuracy\n",
        "accuracy_score(y_test, y_pred)"
      ],
      "execution_count": 0,
      "outputs": [
        {
          "output_type": "execute_result",
          "data": {
            "text/plain": [
              "0.9714"
            ]
          },
          "metadata": {
            "tags": []
          },
          "execution_count": 35
        }
      ]
    },
    {
      "cell_type": "markdown",
      "metadata": {
        "id": "BXGHLpBf0UtC",
        "colab_type": "text"
      },
      "source": [
        "## Exercise 2: Data Augmentation\n",
        "- Shift image by 1-2 pixels, in 4 directions"
      ]
    },
    {
      "cell_type": "code",
      "metadata": {
        "id": "NBqsbAc60iZB",
        "colab_type": "code",
        "colab": {}
      },
      "source": [
        "from scipy.ndimage.interpolation import shift\n",
        "\n",
        "def shift_image(image, dx, dy):\n",
        "    image = image.reshape((28, 28))\n",
        "    shifted_image = shift(image, [dy, dx], cval=0, mode='constant')\n",
        "    return shifted_image.reshape([-1])"
      ],
      "execution_count": 0,
      "outputs": []
    },
    {
      "cell_type": "code",
      "metadata": {
        "id": "tpfJKEbO0knw",
        "colab_type": "code",
        "outputId": "9f334b23-a587-4a5b-a2f4-42ea68560dde",
        "colab": {
          "base_uri": "https://localhost:8080/",
          "height": 245
        }
      },
      "source": [
        "plt.figure(figsize=(12, 3))\n",
        "\n",
        "# Orginal\n",
        "plt.subplot(131)\n",
        "plt.imshow(X[819].reshape(28,28), cmap=\"Greys\", interpolation='nearest')\n",
        "plt.title('Original', fontsize=14)\n",
        "\n",
        "# Shift up\n",
        "plt.subplot(132)\n",
        "plt.imshow(shift_image(X[819], 0, -3).reshape(28,28), cmap=\"Greys\", interpolation='nearest')\n",
        "plt.title('Shifted up', fontsize=14)\n",
        "\n",
        "\n",
        "# Shift right\n",
        "plt.subplot(133)\n",
        "plt.imshow(shift_image(X[819], 3, 0).reshape(28,28), cmap=\"Greys\", interpolation='nearest')\n",
        "plt.title('Shifted right', fontsize=14)"
      ],
      "execution_count": 10,
      "outputs": [
        {
          "output_type": "execute_result",
          "data": {
            "text/plain": [
              "Text(0.5, 1.0, 'Shifted right')"
            ]
          },
          "metadata": {
            "tags": []
          },
          "execution_count": 10
        },
        {
          "output_type": "display_data",
          "data": {
            "image/png": "[encoded data removed]",
            "text/plain": [
              "<Figure size 864x216 with 3 Axes>"
            ]
          },
          "metadata": {
            "tags": []
          }
        }
      ]
    },
    {
      "cell_type": "code",
      "metadata": {
        "id": "9MfETx4c11Bf",
        "colab_type": "code",
        "colab": {}
      },
      "source": [
        "# Clone exisiting training sets to augumented sets\n",
        "X_train_augumented = [image for image in X_train]\n",
        "y_train_augumented = [label for label in y_train]\n",
        "\n",
        "# Create 4 more augumented images (shifted by 3 pixels, in 4 directions), append to augumented sets\n",
        "for dx, dy in ((3,0), (-3,0), (0,3), (0,-3)):\n",
        "    for image, label in zip(X_train, y_train):\n",
        "        shifted_image = shift_image(image, dx, dy)\n",
        "        X_train_augumented.append(shifted_image)\n",
        "        y_train_augumented.append(label)\n",
        "\n",
        "# Transform into numpy arrays\n",
        "X_train_augumented = np.array(X_train_augumented)\n",
        "y_train_augumented = np.array(y_train_augumented)"
      ],
      "execution_count": 0,
      "outputs": []
    },
    {
      "cell_type": "code",
      "metadata": {
        "id": "qnbW-3WJWkfU",
        "colab_type": "code",
        "outputId": "bd1b40ff-cd0b-4ba2-e000-47953ec19204",
        "colab": {
          "base_uri": "https://localhost:8080/",
          "height": 51
        }
      },
      "source": [
        "# Size of new training data\n",
        "print(X_train_augumented.shape)\n",
        "print(y_train_augumented.shape)"
      ],
      "execution_count": 12,
      "outputs": [
        {
          "output_type": "stream",
          "text": [
            "(300000, 784)\n",
            "(300000,)\n"
          ],
          "name": "stdout"
        }
      ]
    },
    {
      "cell_type": "code",
      "metadata": {
        "id": "mLIE-gnz5F55",
        "colab_type": "code",
        "colab": {}
      },
      "source": [
        "def plot_digit(data):\n",
        "    image = data.reshape((28, 28))\n",
        "    plt.imshow(image, cmap=matplotlib.cm.binary, interpolation='nearest')\n",
        "    plt.axis('on')\n",
        "    plt.show()"
      ],
      "execution_count": 0,
      "outputs": []
    },
    {
      "cell_type": "code",
      "metadata": {
        "id": "yC44sjUX6hmo",
        "colab_type": "code",
        "outputId": "2b5c64e6-5664-492f-ffed-5e3d7457463c",
        "colab": {
          "base_uri": "https://localhost:8080/",
          "height": 34
        }
      },
      "source": [
        "# Before shuffling\n",
        "y_train_augumented[:5]"
      ],
      "execution_count": 14,
      "outputs": [
        {
          "output_type": "execute_result",
          "data": {
            "text/plain": [
              "array([5, 0, 4, 1, 9], dtype=uint8)"
            ]
          },
          "metadata": {
            "tags": []
          },
          "execution_count": 14
        }
      ]
    },
    {
      "cell_type": "code",
      "metadata": {
        "id": "S28KTr3N4OlK",
        "colab_type": "code",
        "colab": {}
      },
      "source": [
        "# Shuffle AGAIN (!! New appened images are in order, they have to be shuffled before training)\n",
        "shuffle_index = np.random.permutation(len(X_train_augumented))\n",
        "\n",
        "X_train_augumented = X_train_augumented[shuffle_index]\n",
        "y_train_augumented = y_train_augumented[shuffle_index]"
      ],
      "execution_count": 0,
      "outputs": []
    },
    {
      "cell_type": "code",
      "metadata": {
        "id": "MZu78zJp6oFF",
        "colab_type": "code",
        "outputId": "1f69ff4f-ff42-4a0f-e025-1f27a97aa453",
        "colab": {
          "base_uri": "https://localhost:8080/",
          "height": 34
        }
      },
      "source": [
        "# After shuffling\n",
        "y_train_augumented[:5]"
      ],
      "execution_count": 16,
      "outputs": [
        {
          "output_type": "execute_result",
          "data": {
            "text/plain": [
              "array([1, 5, 1, 8, 5], dtype=uint8)"
            ]
          },
          "metadata": {
            "tags": []
          },
          "execution_count": 16
        }
      ]
    },
    {
      "cell_type": "code",
      "metadata": {
        "id": "Qg16qerPfzGs",
        "colab_type": "code",
        "outputId": "54184b1e-a5cd-4b38-a8d8-2b75ab3aefec",
        "colab": {
          "base_uri": "https://localhost:8080/",
          "height": 122
        }
      },
      "source": [
        "from google.colab import drive\n",
        "drive.mount('/content/gdrive')"
      ],
      "execution_count": 17,
      "outputs": [
        {
          "output_type": "stream",
          "text": [
            "Go to this URL in a browser: https://accounts.google.com/o/oauth2/auth?client_id=947318989803-6bn6qk8qdgf4n4g3pfee6491hc0brc4i.apps.googleusercontent.com&redirect_uri=urn%3aietf%3awg%3aoauth%3a2.0%3aoob&response_type=code&scope=email%20https%3a%2f%2fwww.googleapis.com%2fauth%2fdocs.test%20https%3a%2f%2fwww.googleapis.com%2fauth%2fdrive%20https%3a%2f%2fwww.googleapis.com%2fauth%2fdrive.photos.readonly%20https%3a%2f%2fwww.googleapis.com%2fauth%2fpeopleapi.readonly\n",
            "\n",
            "Enter your authorization code:\n",
            "··········\n",
            "Mounted at /content/gdrive\n"
          ],
          "name": "stdout"
        }
      ]
    },
    {
      "cell_type": "code",
      "metadata": {
        "id": "LJPJXjMXWx8f",
        "colab_type": "code",
        "colab": {
          "base_uri": "https://localhost:8080/",
          "height": 71
        },
        "outputId": "85cb00fb-7db2-4be4-e4a0-9edb4f6d8580"
      },
      "source": [
        "# Retrieve model\n",
        "from sklearn.externals import joblib\n",
        "\n",
        "knn_clf = joblib.load('gdrive/My Drive/Colab Notebooks/Hands-on ML TF/ch3_q1_bestmodel_knnclf.pkl')"
      ],
      "execution_count": 18,
      "outputs": [
        {
          "output_type": "stream",
          "text": [
            "/usr/local/lib/python3.6/dist-packages/sklearn/externals/joblib/__init__.py:15: DeprecationWarning: sklearn.externals.joblib is deprecated in 0.21 and will be removed in 0.23. Please import this functionality directly from joblib, which can be installed with: pip install joblib. If this warning is raised when loading pickled models, you may need to re-serialize those models with scikit-learn 0.21+.\n",
            "  warnings.warn(msg, category=DeprecationWarning)\n"
          ],
          "name": "stderr"
        }
      ]
    },
    {
      "cell_type": "code",
      "metadata": {
        "id": "MJbh33kI6uYm",
        "colab_type": "code",
        "outputId": "9c83bd34-219f-41ff-9170-204f34d84561",
        "colab": {
          "base_uri": "https://localhost:8080/",
          "height": 68
        }
      },
      "source": [
        "# Fit augumented training sets to KNN classifier\n",
        "# Using Ex 1 best model\n",
        "\n",
        "# knn_clf = KNeighborsClassifier(**grid_search.best_params_)\n",
        "knn_clf.fit(X_train_augumented, y_train_augumented)"
      ],
      "execution_count": 19,
      "outputs": [
        {
          "output_type": "execute_result",
          "data": {
            "text/plain": [
              "KNeighborsClassifier(algorithm='auto', leaf_size=30, metric='minkowski',\n",
              "                     metric_params=None, n_jobs=None, n_neighbors=4, p=2,\n",
              "                     weights='distance')"
            ]
          },
          "metadata": {
            "tags": []
          },
          "execution_count": 19
        }
      ]
    },
    {
      "cell_type": "code",
      "metadata": {
        "id": "DiGVek2LW-FT",
        "colab_type": "code",
        "colab": {}
      },
      "source": [
        "# Validation accuracy\n",
        "y_test_pred = knn_clf.predict(X_test)"
      ],
      "execution_count": 0,
      "outputs": []
    },
    {
      "cell_type": "code",
      "metadata": {
        "id": "Yw3PecH4XOeH",
        "colab_type": "code",
        "colab": {
          "base_uri": "https://localhost:8080/",
          "height": 34
        },
        "outputId": "71d32d51-ee07-40f4-837b-b8d8812f70ad"
      },
      "source": [
        "from sklearn.metrics import accuracy_score\n",
        "accuracy_score(y_test, y_test_pred)"
      ],
      "execution_count": 21,
      "outputs": [
        {
          "output_type": "execute_result",
          "data": {
            "text/plain": [
              "0.9686"
            ]
          },
          "metadata": {
            "tags": []
          },
          "execution_count": 21
        }
      ]
    },
    {
      "cell_type": "code",
      "metadata": {
        "id": "4F_h2Q8cjurM",
        "colab_type": "code",
        "colab": {
          "base_uri": "https://localhost:8080/",
          "height": 34
        },
        "outputId": "225eb382-8790-4d96-bbfc-053cd64b13e5"
      },
      "source": [
        "joblib.dump(knn_clf, \"gdrive/My Drive/Colab Notebooks/Hands-on ML TF/ch3_q2_knnclf.pkl\")"
      ],
      "execution_count": 23,
      "outputs": [
        {
          "output_type": "execute_result",
          "data": {
            "text/plain": [
              "['gdrive/My Drive/Colab Notebooks/Hands-on ML TF/ch3_q2_knnclf.pkl']"
            ]
          },
          "metadata": {
            "tags": []
          },
          "execution_count": 23
        }
      ]
    }
  ]
}