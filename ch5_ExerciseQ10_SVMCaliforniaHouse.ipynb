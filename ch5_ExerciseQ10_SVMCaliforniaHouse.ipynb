{
  "nbformat": 4,
  "nbformat_minor": 0,
  "metadata": {
    "colab": {
      "name": "ch5_ExerciseQ10_SVMCaliforniaHouse.ipynb",
      "provenance": [],
      "collapsed_sections": [],
      "authorship_tag": "ABX9TyPKRNaHff7NpLAkgi1+yFNX",
      "include_colab_link": true
    },
    "kernelspec": {
      "name": "python3",
      "display_name": "Python 3"
    }
  },
  "cells": [
    {
      "cell_type": "markdown",
      "metadata": {
        "id": "view-in-github",
        "colab_type": "text"
      },
      "source": [
        "<a href=\"https://colab.research.google.com/github/jackiekuen2/notes-handson-ml-tf/blob/master/ch5_ExerciseQ10_SVMCaliforniaHouse.ipynb\" target=\"_parent\"><img src=\"https://colab.research.google.com/assets/colab-badge.svg\" alt=\"Open In Colab\"/></a>"
      ]
    },
    {
      "cell_type": "code",
      "metadata": {
        "id": "x44-RWh_Ij0s",
        "colab_type": "code",
        "colab": {
          "base_uri": "https://localhost:8080/",
          "height": 34
        },
        "outputId": "2078c381-f5af-419a-db44-a8e222d16d27"
      },
      "source": [
        "from sklearn.datasets import fetch_california_housing\n",
        "\n",
        "housing = fetch_california_housing()"
      ],
      "execution_count": 1,
      "outputs": [
        {
          "output_type": "stream",
          "text": [
            "Downloading Cal. housing from https://ndownloader.figshare.com/files/5976036 to /root/scikit_learn_data\n"
          ],
          "name": "stderr"
        }
      ]
    },
    {
      "cell_type": "code",
      "metadata": {
        "id": "loahjSPfJQKO",
        "colab_type": "code",
        "colab": {}
      },
      "source": [
        "X = housing['data']\n",
        "y = housing['target']"
      ],
      "execution_count": 0,
      "outputs": []
    },
    {
      "cell_type": "code",
      "metadata": {
        "id": "wQ7s_0ByJbVI",
        "colab_type": "code",
        "colab": {
          "base_uri": "https://localhost:8080/",
          "height": 34
        },
        "outputId": "c088c909-c797-4afb-c299-4dd5f15b05b8"
      },
      "source": [
        "housing.keys()"
      ],
      "execution_count": 7,
      "outputs": [
        {
          "output_type": "execute_result",
          "data": {
            "text/plain": [
              "dict_keys(['data', 'target', 'feature_names', 'DESCR'])"
            ]
          },
          "metadata": {
            "tags": []
          },
          "execution_count": 7
        }
      ]
    },
    {
      "cell_type": "code",
      "metadata": {
        "id": "mrnFJxoYJcFz",
        "colab_type": "code",
        "colab": {
          "base_uri": "https://localhost:8080/",
          "height": 153
        },
        "outputId": "de5c70ab-018d-4f2a-c260-592476008b16"
      },
      "source": [
        "housing['feature_names']"
      ],
      "execution_count": 9,
      "outputs": [
        {
          "output_type": "execute_result",
          "data": {
            "text/plain": [
              "['MedInc',\n",
              " 'HouseAge',\n",
              " 'AveRooms',\n",
              " 'AveBedrms',\n",
              " 'Population',\n",
              " 'AveOccup',\n",
              " 'Latitude',\n",
              " 'Longitude']"
            ]
          },
          "metadata": {
            "tags": []
          },
          "execution_count": 9
        }
      ]
    },
    {
      "cell_type": "code",
      "metadata": {
        "id": "P2EIkJ90JxOK",
        "colab_type": "code",
        "colab": {}
      },
      "source": [
        "# Train test split\n",
        "from sklearn.model_selection import train_test_split\n",
        "\n",
        "X_train, X_test, y_train, y_test = train_test_split(X, y, test_size=0.2, random_state=42)"
      ],
      "execution_count": 0,
      "outputs": []
    },
    {
      "cell_type": "code",
      "metadata": {
        "id": "h7BXOUngJ-y4",
        "colab_type": "code",
        "colab": {}
      },
      "source": [
        "# Feature Scaling\n",
        "from sklearn.preprocessing import StandardScaler\n",
        "\n",
        "scaler = StandardScaler()\n",
        "X_train_scaled = scaler.fit_transform(X_train)\n",
        "X_test_scaled = scaler.transform(X_test)"
      ],
      "execution_count": 0,
      "outputs": []
    },
    {
      "cell_type": "markdown",
      "metadata": {
        "id": "mGbSoMHKKoQn",
        "colab_type": "text"
      },
      "source": [
        "## 1. Linear SVR, with epsilon 1.5"
      ]
    },
    {
      "cell_type": "code",
      "metadata": {
        "id": "lZtEWdd5Kauq",
        "colab_type": "code",
        "colab": {
          "base_uri": "https://localhost:8080/",
          "height": 102
        },
        "outputId": "42372a42-f56f-4c7f-a0e4-51563ab2570e"
      },
      "source": [
        "from sklearn.svm import LinearSVR\n",
        "\n",
        "linsvm_reg = LinearSVR(random_state=42)\n",
        "linsvm_reg.fit(X_train_scaled, y_train)"
      ],
      "execution_count": 16,
      "outputs": [
        {
          "output_type": "stream",
          "text": [
            "/usr/local/lib/python3.6/dist-packages/sklearn/svm/_base.py:947: ConvergenceWarning: Liblinear failed to converge, increase the number of iterations.\n",
            "  \"the number of iterations.\", ConvergenceWarning)\n"
          ],
          "name": "stderr"
        },
        {
          "output_type": "execute_result",
          "data": {
            "text/plain": [
              "LinearSVR(C=1.0, dual=True, epsilon=0.0, fit_intercept=True,\n",
              "          intercept_scaling=1.0, loss='epsilon_insensitive', max_iter=1000,\n",
              "          random_state=42, tol=0.0001, verbose=0)"
            ]
          },
          "metadata": {
            "tags": []
          },
          "execution_count": 16
        }
      ]
    },
    {
      "cell_type": "code",
      "metadata": {
        "id": "FIw0hBwzLI_e",
        "colab_type": "code",
        "colab": {
          "base_uri": "https://localhost:8080/",
          "height": 34
        },
        "outputId": "5c1b9607-c559-49d2-c3f6-a06ccdec694f"
      },
      "source": [
        "from sklearn.metrics import mean_squared_error\n",
        "\n",
        "y_pred = linsvm_reg.predict(X_train_scaled)\n",
        "mean_squared_error(y_train, y_pred)"
      ],
      "execution_count": 17,
      "outputs": [
        {
          "output_type": "execute_result",
          "data": {
            "text/plain": [
              "0.949968822217229"
            ]
          },
          "metadata": {
            "tags": []
          },
          "execution_count": 17
        }
      ]
    },
    {
      "cell_type": "code",
      "metadata": {
        "id": "EhjhCnKBLZhK",
        "colab_type": "code",
        "colab": {
          "base_uri": "https://localhost:8080/",
          "height": 34
        },
        "outputId": "be58d25f-5fcd-48c7-f3f4-8799e9af04e0"
      },
      "source": [
        "import numpy as np\n",
        "# RMSE\n",
        "np.sqrt(mean_squared_error(y_train, y_pred))"
      ],
      "execution_count": 18,
      "outputs": [
        {
          "output_type": "execute_result",
          "data": {
            "text/plain": [
              "0.9746634404845752"
            ]
          },
          "metadata": {
            "tags": []
          },
          "execution_count": 18
        }
      ]
    },
    {
      "cell_type": "markdown",
      "metadata": {
        "id": "Z1TmzJcAMZYX",
        "colab_type": "text"
      },
      "source": [
        "## 2. Non-Linear RBF SVR"
      ]
    },
    {
      "cell_type": "code",
      "metadata": {
        "id": "HZc0UtSiL3bo",
        "colab_type": "code",
        "colab": {
          "base_uri": "https://localhost:8080/",
          "height": 51
        },
        "outputId": "d79053fc-1b2a-4288-b7a0-e1ab1869338b"
      },
      "source": [
        "from sklearn.svm import SVR\n",
        "\n",
        "rbfsvm_reg = SVR(kernel='rbf')\n",
        "rbfsvm_reg.fit(X_train_scaled, y_train)"
      ],
      "execution_count": 20,
      "outputs": [
        {
          "output_type": "execute_result",
          "data": {
            "text/plain": [
              "SVR(C=1.0, cache_size=200, coef0=0.0, degree=3, epsilon=0.1, gamma='scale',\n",
              "    kernel='rbf', max_iter=-1, shrinking=True, tol=0.001, verbose=False)"
            ]
          },
          "metadata": {
            "tags": []
          },
          "execution_count": 20
        }
      ]
    },
    {
      "cell_type": "code",
      "metadata": {
        "id": "Od1k3y5ONpI1",
        "colab_type": "code",
        "colab": {
          "base_uri": "https://localhost:8080/",
          "height": 34
        },
        "outputId": "c1e82880-323b-4a5f-933b-21f96fa00e8d"
      },
      "source": [
        "y_pred = rbfsvm_reg.predict(X_train_scaled)\n",
        "mean_squared_error(y_train, y_pred)"
      ],
      "execution_count": 21,
      "outputs": [
        {
          "output_type": "execute_result",
          "data": {
            "text/plain": [
              "0.3361301529185807"
            ]
          },
          "metadata": {
            "tags": []
          },
          "execution_count": 21
        }
      ]
    },
    {
      "cell_type": "code",
      "metadata": {
        "id": "iYRmvK6aOH0_",
        "colab_type": "code",
        "colab": {
          "base_uri": "https://localhost:8080/",
          "height": 34
        },
        "outputId": "addcde25-923e-4c73-9a0a-6a745ae90288"
      },
      "source": [
        "# RMSE\n",
        "np.sqrt(mean_squared_error(y_train, y_pred))"
      ],
      "execution_count": 22,
      "outputs": [
        {
          "output_type": "execute_result",
          "data": {
            "text/plain": [
              "0.5797673265358964"
            ]
          },
          "metadata": {
            "tags": []
          },
          "execution_count": 22
        }
      ]
    },
    {
      "cell_type": "markdown",
      "metadata": {
        "id": "jk2ekSv0OPIw",
        "colab_type": "text"
      },
      "source": [
        "## 2B. Randomized Search CV for RBF SVR"
      ]
    },
    {
      "cell_type": "code",
      "metadata": {
        "id": "KQ9lSHDlOUFG",
        "colab_type": "code",
        "colab": {
          "base_uri": "https://localhost:8080/",
          "height": 1000
        },
        "outputId": "b4da2c14-87dc-42d2-f23e-67b35b7e1cd0"
      },
      "source": [
        "from sklearn.model_selection import RandomizedSearchCV\n",
        "from scipy.stats import reciprocal, uniform\n",
        "\n",
        "rbfsvm_reg = SVR(kernel='rbf')\n",
        "\n",
        "param_distributions = {\n",
        "    'gamma': reciprocal(0.001, 1),\n",
        "    'C': uniform(1, 10)\n",
        "}\n",
        "\n",
        "random_search_cv = RandomizedSearchCV(rbfsvm_reg, param_distributions=param_distributions,\n",
        "                                      n_iter=10, verbose=2, cv=3, random_state=42)\n",
        "random_search_cv.fit(X_train_scaled, y_train)"
      ],
      "execution_count": 23,
      "outputs": [
        {
          "output_type": "stream",
          "text": [
            "Fitting 3 folds for each of 10 candidates, totalling 30 fits\n",
            "[CV] C=4.745401188473625, gamma=0.7114476009343418 ...................\n"
          ],
          "name": "stdout"
        },
        {
          "output_type": "stream",
          "text": [
            "[Parallel(n_jobs=1)]: Using backend SequentialBackend with 1 concurrent workers.\n"
          ],
          "name": "stderr"
        },
        {
          "output_type": "stream",
          "text": [
            "[CV] .... C=4.745401188473625, gamma=0.7114476009343418, total=  19.7s\n",
            "[CV] C=4.745401188473625, gamma=0.7114476009343418 ...................\n"
          ],
          "name": "stdout"
        },
        {
          "output_type": "stream",
          "text": [
            "[Parallel(n_jobs=1)]: Done   1 out of   1 | elapsed:   19.7s remaining:    0.0s\n"
          ],
          "name": "stderr"
        },
        {
          "output_type": "stream",
          "text": [
            "[CV] .... C=4.745401188473625, gamma=0.7114476009343418, total=  19.6s\n",
            "[CV] C=4.745401188473625, gamma=0.7114476009343418 ...................\n",
            "[CV] .... C=4.745401188473625, gamma=0.7114476009343418, total=  18.7s\n",
            "[CV] C=8.31993941811405, gamma=0.06251373574521747 ...................\n",
            "[CV] .... C=8.31993941811405, gamma=0.06251373574521747, total=  11.0s\n",
            "[CV] C=8.31993941811405, gamma=0.06251373574521747 ...................\n",
            "[CV] .... C=8.31993941811405, gamma=0.06251373574521747, total=  11.4s\n",
            "[CV] C=8.31993941811405, gamma=0.06251373574521747 ...................\n",
            "[CV] .... C=8.31993941811405, gamma=0.06251373574521747, total=  11.5s\n",
            "[CV] C=2.560186404424365, gamma=0.0029375384576328287 ................\n",
            "[CV] . C=2.560186404424365, gamma=0.0029375384576328287, total=   8.8s\n",
            "[CV] C=2.560186404424365, gamma=0.0029375384576328287 ................\n",
            "[CV] . C=2.560186404424365, gamma=0.0029375384576328287, total=   8.8s\n",
            "[CV] C=2.560186404424365, gamma=0.0029375384576328287 ................\n",
            "[CV] . C=2.560186404424365, gamma=0.0029375384576328287, total=   8.7s\n",
            "[CV] C=1.5808361216819946, gamma=0.3967605077052987 ..................\n",
            "[CV] ... C=1.5808361216819946, gamma=0.3967605077052987, total=   9.9s\n",
            "[CV] C=1.5808361216819946, gamma=0.3967605077052987 ..................\n",
            "[CV] ... C=1.5808361216819946, gamma=0.3967605077052987, total=  10.1s\n",
            "[CV] C=1.5808361216819946, gamma=0.3967605077052987 ..................\n",
            "[CV] ... C=1.5808361216819946, gamma=0.3967605077052987, total=  10.0s\n",
            "[CV] C=7.011150117432088, gamma=0.13311216080736882 ..................\n",
            "[CV] ... C=7.011150117432088, gamma=0.13311216080736882, total=  12.3s\n",
            "[CV] C=7.011150117432088, gamma=0.13311216080736882 ..................\n",
            "[CV] ... C=7.011150117432088, gamma=0.13311216080736882, total=  12.6s\n",
            "[CV] C=7.011150117432088, gamma=0.13311216080736882 ..................\n",
            "[CV] ... C=7.011150117432088, gamma=0.13311216080736882, total=  12.6s\n",
            "[CV] C=1.2058449429580245, gamma=0.8123245085588684 ..................\n",
            "[CV] ... C=1.2058449429580245, gamma=0.8123245085588684, total=  10.6s\n",
            "[CV] C=1.2058449429580245, gamma=0.8123245085588684 ..................\n",
            "[CV] ... C=1.2058449429580245, gamma=0.8123245085588684, total=  10.6s\n",
            "[CV] C=1.2058449429580245, gamma=0.8123245085588684 ..................\n",
            "[CV] ... C=1.2058449429580245, gamma=0.8123245085588684, total=  10.7s\n",
            "[CV] C=9.324426408004218, gamma=0.004335281794951564 .................\n",
            "[CV] .. C=9.324426408004218, gamma=0.004335281794951564, total=   9.1s\n",
            "[CV] C=9.324426408004218, gamma=0.004335281794951564 .................\n",
            "[CV] .. C=9.324426408004218, gamma=0.004335281794951564, total=   9.2s\n",
            "[CV] C=9.324426408004218, gamma=0.004335281794951564 .................\n",
            "[CV] .. C=9.324426408004218, gamma=0.004335281794951564, total=   9.0s\n",
            "[CV] C=2.818249672071006, gamma=0.0035498788321965016 ................\n",
            "[CV] . C=2.818249672071006, gamma=0.0035498788321965016, total=   8.8s\n",
            "[CV] C=2.818249672071006, gamma=0.0035498788321965016 ................\n",
            "[CV] . C=2.818249672071006, gamma=0.0035498788321965016, total=   9.0s\n",
            "[CV] C=2.818249672071006, gamma=0.0035498788321965016 ................\n",
            "[CV] . C=2.818249672071006, gamma=0.0035498788321965016, total=   9.0s\n",
            "[CV] C=4.042422429595377, gamma=0.037520558551242804 .................\n",
            "[CV] .. C=4.042422429595377, gamma=0.037520558551242804, total=   9.6s\n",
            "[CV] C=4.042422429595377, gamma=0.037520558551242804 .................\n",
            "[CV] .. C=4.042422429595377, gamma=0.037520558551242804, total=   9.7s\n",
            "[CV] C=4.042422429595377, gamma=0.037520558551242804 .................\n",
            "[CV] .. C=4.042422429595377, gamma=0.037520558551242804, total=   9.6s\n",
            "[CV] C=5.319450186421157, gamma=0.007476312062252299 .................\n",
            "[CV] .. C=5.319450186421157, gamma=0.007476312062252299, total=   9.1s\n",
            "[CV] C=5.319450186421157, gamma=0.007476312062252299 .................\n",
            "[CV] .. C=5.319450186421157, gamma=0.007476312062252299, total=   9.0s\n",
            "[CV] C=5.319450186421157, gamma=0.007476312062252299 .................\n",
            "[CV] .. C=5.319450186421157, gamma=0.007476312062252299, total=   9.1s\n"
          ],
          "name": "stdout"
        },
        {
          "output_type": "stream",
          "text": [
            "[Parallel(n_jobs=1)]: Done  30 out of  30 | elapsed:  5.5min finished\n"
          ],
          "name": "stderr"
        },
        {
          "output_type": "execute_result",
          "data": {
            "text/plain": [
              "RandomizedSearchCV(cv=3, error_score=nan,\n",
              "                   estimator=SVR(C=1.0, cache_size=200, coef0=0.0, degree=3,\n",
              "                                 epsilon=0.1, gamma='scale', kernel='rbf',\n",
              "                                 max_iter=-1, shrinking=True, tol=0.001,\n",
              "                                 verbose=False),\n",
              "                   iid='deprecated', n_iter=10, n_jobs=None,\n",
              "                   param_distributions={'C': <scipy.stats._distn_infrastructure.rv_frozen object at 0x7ff7a1d4eac8>,\n",
              "                                        'gamma': <scipy.stats._distn_infrastructure.rv_frozen object at 0x7ff7a1d4e898>},\n",
              "                   pre_dispatch='2*n_jobs', random_state=42, refit=True,\n",
              "                   return_train_score=False, scoring=None, verbose=2)"
            ]
          },
          "metadata": {
            "tags": []
          },
          "execution_count": 23
        }
      ]
    },
    {
      "cell_type": "code",
      "metadata": {
        "id": "pUzJiwEJPQLb",
        "colab_type": "code",
        "colab": {
          "base_uri": "https://localhost:8080/",
          "height": 68
        },
        "outputId": "63ca0e7f-614f-48a8-fb62-3f10281aee64"
      },
      "source": [
        "random_search_cv.best_estimator_"
      ],
      "execution_count": 24,
      "outputs": [
        {
          "output_type": "execute_result",
          "data": {
            "text/plain": [
              "SVR(C=4.745401188473625, cache_size=200, coef0=0.0, degree=3, epsilon=0.1,\n",
              "    gamma=0.7114476009343418, kernel='rbf', max_iter=-1, shrinking=True,\n",
              "    tol=0.001, verbose=False)"
            ]
          },
          "metadata": {
            "tags": []
          },
          "execution_count": 24
        }
      ]
    },
    {
      "cell_type": "code",
      "metadata": {
        "id": "Rxh7WW6rR4mf",
        "colab_type": "code",
        "colab": {
          "base_uri": "https://localhost:8080/",
          "height": 34
        },
        "outputId": "cf38d052-f1d7-4248-af44-91feb96e24e3"
      },
      "source": [
        "random_search_cv.best_params_"
      ],
      "execution_count": 25,
      "outputs": [
        {
          "output_type": "execute_result",
          "data": {
            "text/plain": [
              "{'C': 4.745401188473625, 'gamma': 0.7114476009343418}"
            ]
          },
          "metadata": {
            "tags": []
          },
          "execution_count": 25
        }
      ]
    },
    {
      "cell_type": "code",
      "metadata": {
        "id": "d7Ry8np6R69A",
        "colab_type": "code",
        "colab": {
          "base_uri": "https://localhost:8080/",
          "height": 34
        },
        "outputId": "20db5172-f24f-4f8b-9c74-9cae1fb14703"
      },
      "source": [
        "random_search_cv.best_score_"
      ],
      "execution_count": 26,
      "outputs": [
        {
          "output_type": "execute_result",
          "data": {
            "text/plain": [
              "0.7601605215852856"
            ]
          },
          "metadata": {
            "tags": []
          },
          "execution_count": 26
        }
      ]
    },
    {
      "cell_type": "code",
      "metadata": {
        "id": "5P9qc9ZNR-Zj",
        "colab_type": "code",
        "colab": {
          "base_uri": "https://localhost:8080/",
          "height": 34
        },
        "outputId": "ece7a0cd-c9f6-4e38-b62a-212693305785"
      },
      "source": [
        "# Fit the whole training set in random_search_cv best_estimator_\n",
        "final_reg = random_search_cv.best_estimator_\n",
        "y_pred = final_reg.predict(X_train_scaled)\n",
        "mean_squared_error(y_train, y_pred)"
      ],
      "execution_count": 27,
      "outputs": [
        {
          "output_type": "execute_result",
          "data": {
            "text/plain": [
              "0.2168284470916062"
            ]
          },
          "metadata": {
            "tags": []
          },
          "execution_count": 27
        }
      ]
    },
    {
      "cell_type": "markdown",
      "metadata": {
        "id": "u4OCOOtFS9Xp",
        "colab_type": "text"
      },
      "source": [
        "Final training set MSE: 0.2168"
      ]
    },
    {
      "cell_type": "code",
      "metadata": {
        "id": "WuMGx-1wTAjT",
        "colab_type": "code",
        "colab": {
          "base_uri": "https://localhost:8080/",
          "height": 34
        },
        "outputId": "9b4629cf-b898-495c-8714-d3816bdf2690"
      },
      "source": [
        "y_pred = final_reg.predict(X_test_scaled)\n",
        "mean_squared_error(y_test, y_pred)"
      ],
      "execution_count": 29,
      "outputs": [
        {
          "output_type": "execute_result",
          "data": {
            "text/plain": [
              "0.30714383355045694"
            ]
          },
          "metadata": {
            "tags": []
          },
          "execution_count": 29
        }
      ]
    },
    {
      "cell_type": "markdown",
      "metadata": {
        "id": "2U4eRaWvTMoI",
        "colab_type": "text"
      },
      "source": [
        "Final test set MSE: 0.3071"
      ]
    }
  ]
}