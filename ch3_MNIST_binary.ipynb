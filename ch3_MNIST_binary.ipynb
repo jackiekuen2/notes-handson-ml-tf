{
  "nbformat": 4,
  "nbformat_minor": 0,
  "metadata": {
    "colab": {
      "name": "ch3_MNIST_binary.ipynb",
      "provenance": [],
      "collapsed_sections": [],
      "include_colab_link": true
    },
    "kernelspec": {
      "name": "python3",
      "display_name": "Python 3"
    }
  },
  "cells": [
    {
      "cell_type": "markdown",
      "metadata": {
        "id": "view-in-github",
        "colab_type": "text"
      },
      "source": [
        "<a href=\"https://colab.research.google.com/github/jackiekuen2/notes-handson-ml-tf/blob/master/ch3_MNIST_binary.ipynb\" target=\"_parent\"><img src=\"https://colab.research.google.com/assets/colab-badge.svg\" alt=\"Open In Colab\"/></a>"
      ]
    },
    {
      "cell_type": "code",
      "metadata": {
        "id": "ozkPz9rt8ywQ",
        "colab_type": "code",
        "colab": {}
      },
      "source": [
        "from sklearn.datasets import fetch_mldata, fetch_openml\n",
        "import numpy as np"
      ],
      "execution_count": 0,
      "outputs": []
    },
    {
      "cell_type": "markdown",
      "metadata": {
        "id": "AohYRol8H3QX",
        "colab_type": "text"
      },
      "source": [
        "# 0: Get data"
      ]
    },
    {
      "cell_type": "code",
      "metadata": {
        "id": "7SwMQQ779HNl",
        "colab_type": "code",
        "colab": {}
      },
      "source": [
        "# mnist = fetch_mldata('MNIST original')\n",
        "mnist = fetch_openml('mnist_784', version=1)\n",
        "# mnist"
      ],
      "execution_count": 0,
      "outputs": []
    },
    {
      "cell_type": "code",
      "metadata": {
        "id": "UcZDoLSfASR2",
        "colab_type": "code",
        "outputId": "7106a2dd-67d2-47ff-b8e5-5668c261212a",
        "colab": {
          "base_uri": "https://localhost:8080/",
          "height": 34
        }
      },
      "source": [
        "mnist.keys()"
      ],
      "execution_count": 0,
      "outputs": [
        {
          "output_type": "execute_result",
          "data": {
            "text/plain": [
              "dict_keys(['data', 'target', 'feature_names', 'DESCR', 'details', 'categories', 'url'])"
            ]
          },
          "metadata": {
            "tags": []
          },
          "execution_count": 3
        }
      ]
    },
    {
      "cell_type": "code",
      "metadata": {
        "id": "H_SNbzegDKtq",
        "colab_type": "code",
        "outputId": "fc34c5e0-cc9b-457e-fd0f-fc4c35fdcb75",
        "colab": {
          "base_uri": "https://localhost:8080/",
          "height": 51
        }
      },
      "source": [
        "X, y = mnist['data'], mnist['target']\n",
        "\n",
        "print(X.shape)\n",
        "print(y.shape)"
      ],
      "execution_count": 0,
      "outputs": [
        {
          "output_type": "stream",
          "text": [
            "(70000, 784)\n",
            "(70000,)\n"
          ],
          "name": "stdout"
        }
      ]
    },
    {
      "cell_type": "code",
      "metadata": {
        "id": "DilIwqc5uR0m",
        "colab_type": "code",
        "colab": {}
      },
      "source": [
        "# Change data type of y: string to integers\n",
        "y = y.astype(np.uint8)"
      ],
      "execution_count": 0,
      "outputs": []
    },
    {
      "cell_type": "code",
      "metadata": {
        "id": "TFyHZ4lfEY3T",
        "colab_type": "code",
        "outputId": "6501562e-5755-460d-aec5-dbeb60b0c983",
        "colab": {
          "base_uri": "https://localhost:8080/",
          "height": 264
        }
      },
      "source": [
        "# Display hand-written digits\n",
        "%matplotlib inline\n",
        "import matplotlib\n",
        "import matplotlib.pyplot as plt\n",
        "\n",
        "some_digit = X[0]\n",
        "some_digit_image = some_digit.reshape(28, 28)\n",
        "\n",
        "some_digit_label = y[0]\n",
        "\n",
        "plt.imshow(some_digit_image, cmap=matplotlib.cm.binary, interpolation='nearest')\n",
        "plt.axis('off')\n",
        "plt.title('Label: %s' % some_digit_label)\n",
        "plt.show()"
      ],
      "execution_count": 0,
      "outputs": [
        {
          "output_type": "display_data",
          "data": {
            "image/png": "[encoded data removed]",
            "text/plain": [
              "<Figure size 432x288 with 1 Axes>"
            ]
          },
          "metadata": {
            "tags": []
          }
        }
      ]
    },
    {
      "cell_type": "markdown",
      "metadata": {
        "id": "mfqIJ2fjHuOp",
        "colab_type": "text"
      },
      "source": [
        "# 1: Split into training set and test set + Shuffling\n",
        "- This data set is already shuffled"
      ]
    },
    {
      "cell_type": "code",
      "metadata": {
        "id": "suxR9aEVHpen",
        "colab_type": "code",
        "outputId": "cc5b70e7-36f0-45e9-998a-c45796e2f1a1",
        "colab": {
          "base_uri": "https://localhost:8080/",
          "height": 85
        }
      },
      "source": [
        "X_train, X_test, y_train, y_test = X[:60000], X[60000:], y[:60000], y[60000:]\n",
        "\n",
        "print(X_train.shape)\n",
        "print(X_test.shape)\n",
        "print(y_train.shape)\n",
        "print(y_test.shape)"
      ],
      "execution_count": 0,
      "outputs": [
        {
          "output_type": "stream",
          "text": [
            "(60000, 784)\n",
            "(10000, 784)\n",
            "(60000,)\n",
            "(10000,)\n"
          ],
          "name": "stdout"
        }
      ]
    },
    {
      "cell_type": "code",
      "metadata": {
        "id": "gEK_BndlJBXB",
        "colab_type": "code",
        "colab": {}
      },
      "source": [
        "# import numpy as np\n",
        "\n",
        "# Shuffling\n",
        "# np.random.seed(42)\n",
        "# shuffle_index = np.random.permutation(60000)\n",
        "\n",
        "# X_train, y_train = X_train[shuffle_index], y_train[shuffle_index]"
      ],
      "execution_count": 0,
      "outputs": []
    },
    {
      "cell_type": "markdown",
      "metadata": {
        "id": "cC7tvqCNJ-NR",
        "colab_type": "text"
      },
      "source": [
        "# 2A: Binary Classifier (SGD Classifier)\n",
        "e.g. Number 5"
      ]
    },
    {
      "cell_type": "code",
      "metadata": {
        "id": "9QgR4N-FKEaL",
        "colab_type": "code",
        "colab": {}
      },
      "source": [
        "y_train_5 = (y_train == 5) # True for all 5s, False for all other digits\n",
        "y_test_5 = (y_test == 5)"
      ],
      "execution_count": 0,
      "outputs": []
    },
    {
      "cell_type": "code",
      "metadata": {
        "id": "-Vq30dNhKe69",
        "colab_type": "code",
        "outputId": "831e5a6a-206e-4611-8955-257116e46421",
        "colab": {
          "base_uri": "https://localhost:8080/",
          "height": 119
        }
      },
      "source": [
        "from sklearn.linear_model import SGDClassifier\n",
        "\n",
        "sgd_clf = SGDClassifier(random_state=42, verbose=0)\n",
        "sgd_clf.fit(X_train, y_train_5)"
      ],
      "execution_count": 0,
      "outputs": [
        {
          "output_type": "execute_result",
          "data": {
            "text/plain": [
              "SGDClassifier(alpha=0.0001, average=False, class_weight=None,\n",
              "              early_stopping=False, epsilon=0.1, eta0=0.0, fit_intercept=True,\n",
              "              l1_ratio=0.15, learning_rate='optimal', loss='hinge',\n",
              "              max_iter=1000, n_iter_no_change=5, n_jobs=None, penalty='l2',\n",
              "              power_t=0.5, random_state=42, shuffle=True, tol=0.001,\n",
              "              validation_fraction=0.1, verbose=0, warm_start=False)"
            ]
          },
          "metadata": {
            "tags": []
          },
          "execution_count": 10
        }
      ]
    },
    {
      "cell_type": "code",
      "metadata": {
        "id": "RSCypGp9LqEn",
        "colab_type": "code",
        "outputId": "cc22e3c9-f397-4031-e05d-672cef779537",
        "colab": {
          "base_uri": "https://localhost:8080/",
          "height": 34
        }
      },
      "source": [
        "sgd_clf.predict([some_digit])"
      ],
      "execution_count": 0,
      "outputs": [
        {
          "output_type": "execute_result",
          "data": {
            "text/plain": [
              "array([ True])"
            ]
          },
          "metadata": {
            "tags": []
          },
          "execution_count": 11
        }
      ]
    },
    {
      "cell_type": "markdown",
      "metadata": {
        "id": "k30NmRWNsK7v",
        "colab_type": "text"
      },
      "source": [
        "# 3: Performance Measures"
      ]
    },
    {
      "cell_type": "markdown",
      "metadata": {
        "id": "jnUMEKXqN17-",
        "colab_type": "text"
      },
      "source": [
        "### 3A: Accuracy: Cross-Validation: Stratified Sampling, a representative ratio of each class"
      ]
    },
    {
      "cell_type": "code",
      "metadata": {
        "id": "iHxHzLyUN6Ht",
        "colab_type": "code",
        "outputId": "7261cc0d-4c6f-4b5d-fd05-89b7d0c4b13c",
        "colab": {
          "base_uri": "https://localhost:8080/",
          "height": 68
        }
      },
      "source": [
        "from sklearn.model_selection import StratifiedKFold\n",
        "from sklearn.base import  clone\n",
        "\n",
        "skfolds = StratifiedKFold(n_splits=3, random_state=42)\n",
        "\n",
        "for train_index, test_index in skfolds.split(X_train, y_train_5):\n",
        "    clone_clf = clone(sgd_clf)\n",
        "    X_train_folds = X_train[train_index]\n",
        "    y_train_folds = (y_train_5[train_index])\n",
        "    X_test_fold = X_train[test_index]\n",
        "    y_test_fold = (y_train_5[test_index])\n",
        "\n",
        "    clone_clf.fit(X_train_folds, y_train_folds)\n",
        "    y_pred = clone_clf.predict(X_test_fold)\n",
        "    n_correct = sum(y_pred == y_test_fold)\n",
        "    print(\"Accuracy: \", n_correct/len(y_pred))"
      ],
      "execution_count": 0,
      "outputs": [
        {
          "output_type": "stream",
          "text": [
            "Accuracy:  0.95035\n",
            "Accuracy:  0.96035\n",
            "Accuracy:  0.9604\n"
          ],
          "name": "stdout"
        }
      ]
    },
    {
      "cell_type": "code",
      "metadata": {
        "id": "J8qz35J3olLO",
        "colab_type": "code",
        "outputId": "03c29cfa-9159-4707-ad84-7bbcbc9aef9d",
        "colab": {
          "base_uri": "https://localhost:8080/",
          "height": 34
        }
      },
      "source": [
        "# Cross-check with cross_val_score()\n",
        "from sklearn.model_selection import cross_val_score\n",
        "\n",
        "cross_val_score(sgd_clf, X_train, y_train_5, cv=3, scoring='accuracy')"
      ],
      "execution_count": 0,
      "outputs": [
        {
          "output_type": "execute_result",
          "data": {
            "text/plain": [
              "array([0.95035, 0.96035, 0.9604 ])"
            ]
          },
          "metadata": {
            "tags": []
          },
          "execution_count": 13
        }
      ]
    },
    {
      "cell_type": "markdown",
      "metadata": {
        "id": "a3bHJxhGqVV9",
        "colab_type": "text"
      },
      "source": [
        "## 3B: Confusion Matrix"
      ]
    },
    {
      "cell_type": "markdown",
      "metadata": {
        "id": "2A-K5N2DwQgd",
        "colab_type": "text"
      },
      "source": [
        "![confusion_matrix](https://static.packt-cdn.com/products/9781838555078/graphics/C13314_06_05.jpg)"
      ]
    },
    {
      "cell_type": "code",
      "metadata": {
        "id": "igzD9nSZo-5d",
        "colab_type": "code",
        "colab": {}
      },
      "source": [
        "from sklearn.model_selection import cross_val_predict\n",
        "\n",
        "y_train_pred = cross_val_predict(sgd_clf, X_train, y_train_5, cv=3)"
      ],
      "execution_count": 0,
      "outputs": []
    },
    {
      "cell_type": "code",
      "metadata": {
        "id": "AJ9KiB98tBel",
        "colab_type": "code",
        "outputId": "f6e9808a-ea86-4795-a0c7-98bab84b3a85",
        "colab": {
          "base_uri": "https://localhost:8080/",
          "height": 51
        }
      },
      "source": [
        "from sklearn.metrics import confusion_matrix\n",
        "\n",
        "confusion_matrix(y_train_5, y_train_pred)"
      ],
      "execution_count": 0,
      "outputs": [
        {
          "output_type": "execute_result",
          "data": {
            "text/plain": [
              "array([[53892,   687],\n",
              "       [ 1891,  3530]])"
            ]
          },
          "metadata": {
            "tags": []
          },
          "execution_count": 15
        }
      ]
    },
    {
      "cell_type": "code",
      "metadata": {
        "id": "2u5t9-Mr0Aaa",
        "colab_type": "code",
        "outputId": "f569c9df-4e68-4849-f1e9-7f0d0ce92cfe",
        "colab": {
          "base_uri": "https://localhost:8080/",
          "height": 51
        }
      },
      "source": [
        "from sklearn.metrics import precision_score, recall_score\n",
        "# Precision score\n",
        "print(precision_score(y_train_5, y_train_pred))\n",
        "\n",
        "# Recall score\n",
        "print(recall_score(y_train_5, y_train_pred))"
      ],
      "execution_count": 0,
      "outputs": [
        {
          "output_type": "stream",
          "text": [
            "0.8370879772350012\n",
            "0.6511713705958311\n"
          ],
          "name": "stdout"
        }
      ]
    },
    {
      "cell_type": "code",
      "metadata": {
        "id": "iOC6Ur-A1z6R",
        "colab_type": "code",
        "outputId": "8a908ec8-85b4-41b4-c159-a51bc96192f5",
        "colab": {
          "base_uri": "https://localhost:8080/",
          "height": 34
        }
      },
      "source": [
        "from sklearn.metrics import f1_score\n",
        "\n",
        "# F1 score\n",
        "f1_score(y_train_5, y_train_pred)"
      ],
      "execution_count": 0,
      "outputs": [
        {
          "output_type": "execute_result",
          "data": {
            "text/plain": [
              "0.7325171197343846"
            ]
          },
          "metadata": {
            "tags": []
          },
          "execution_count": 17
        }
      ]
    },
    {
      "cell_type": "markdown",
      "metadata": {
        "id": "oyE9kXsDNzqV",
        "colab_type": "text"
      },
      "source": [
        "## 3C: Decision Scores, Precision/Recall Tradeoff\n",
        "- precision_recall_curve(y_true, decision_scores) https://scikit-learn.org/stable/modules/generated/sklearn.metrics.precision_recall_curve.html"
      ]
    },
    {
      "cell_type": "code",
      "metadata": {
        "id": "i-b4_IlKN3P9",
        "colab_type": "code",
        "outputId": "286c0bdc-76e4-4824-e777-a6286ee360bc",
        "colab": {
          "base_uri": "https://localhost:8080/",
          "height": 68
        }
      },
      "source": [
        "# some_digit label = 5\n",
        "some_digit_score = sgd_clf.decision_function([some_digit])\n",
        "print(\"Decision score: \", some_digit_score)\n",
        "\n",
        "# Prediction of default threshold: 0.5\n",
        "print(\"Prediction of default threshold (Is 5?): \", sgd_clf.predict([some_digit]))\n",
        "\n",
        "# Prediction of custom threshold: e.g. 20000\n",
        "threshold = 20000\n",
        "y_some_digit_pred = (some_digit_score > threshold)\n",
        "print(\"Prediction of custom threshold (Is 5?): \", y_some_digit_pred)"
      ],
      "execution_count": 0,
      "outputs": [
        {
          "output_type": "stream",
          "text": [
            "Decision score:  [2164.22030239]\n",
            "Prediction of default threshold (Is 5?):  [ True]\n",
            "Prediction of custom threshold (Is 5?):  [False]\n"
          ],
          "name": "stdout"
        }
      ]
    },
    {
      "cell_type": "code",
      "metadata": {
        "id": "MGhS42rlOMHZ",
        "colab_type": "code",
        "outputId": "d25611c3-8ce8-46b3-d86c-05cb3d8423cf",
        "colab": {
          "base_uri": "https://localhost:8080/",
          "height": 34
        }
      },
      "source": [
        "sgd_clf.predict([some_digit])"
      ],
      "execution_count": 0,
      "outputs": [
        {
          "output_type": "execute_result",
          "data": {
            "text/plain": [
              "array([ True])"
            ]
          },
          "metadata": {
            "tags": []
          },
          "execution_count": 19
        }
      ]
    },
    {
      "cell_type": "code",
      "metadata": {
        "id": "YDjZLOTvQ_4b",
        "colab_type": "code",
        "colab": {}
      },
      "source": [
        "# Retrieving all decision scores\n",
        "y_scores = cross_val_predict(sgd_clf, X_train, y_train_5, cv=3, \n",
        "                             method='decision_function')"
      ],
      "execution_count": 0,
      "outputs": []
    },
    {
      "cell_type": "code",
      "metadata": {
        "id": "JDIUg9uDRlxy",
        "colab_type": "code",
        "outputId": "7cbd6cc4-7211-4edc-c3f1-68a10e87d94f",
        "colab": {
          "base_uri": "https://localhost:8080/",
          "height": 85
        }
      },
      "source": [
        "# Print out first 10 predictions and their decision scores\n",
        "print(y_train_pred[:10])\n",
        "print(y_scores[:10])"
      ],
      "execution_count": 0,
      "outputs": [
        {
          "output_type": "stream",
          "text": [
            "[ True False False False False False False False False False]\n",
            "[  1200.93051237 -26883.79202424 -33072.03475406 -15919.5480689\n",
            " -20003.53970191 -16652.87731528 -14276.86944263 -23328.13728948\n",
            "  -5172.79611432 -13873.5025381 ]\n"
          ],
          "name": "stdout"
        }
      ]
    },
    {
      "cell_type": "code",
      "metadata": {
        "id": "dve6bqHjSKDL",
        "colab_type": "code",
        "outputId": "27f7d6d1-858c-4b53-ecbd-e8dc2a5ed0b5",
        "colab": {
          "base_uri": "https://localhost:8080/",
          "height": 295
        }
      },
      "source": [
        "from sklearn.metrics import precision_recall_curve\n",
        "\n",
        "precisions, recalls, thresholds = precision_recall_curve(y_train_5, y_scores)\n",
        "\n",
        "def plot_precision_recall_vs_threshold(precisions, recalls, thresholds):\n",
        "    plt.plot(thresholds, precisions[:-1], 'b--', label='Precision')\n",
        "    plt.plot(thresholds, recalls[:-1], 'g-', label=\"Recall\")\n",
        "    plt.xlabel(\"Threshold\")\n",
        "    plt.legend(loc=\"upper left\")\n",
        "    plt.ylim([0, 1])\n",
        "    plt.title(\"Precision/Recall Tradeoff\")\n",
        "\n",
        "plot_precision_recall_vs_threshold(precisions, recalls, thresholds)\n",
        "plt.show()"
      ],
      "execution_count": 0,
      "outputs": [
        {
          "output_type": "display_data",
          "data": {
            "image/png": "[encoded data removed]",
            "text/plain": [
              "<Figure size 432x288 with 1 Axes>"
            ]
          },
          "metadata": {
            "tags": []
          }
        }
      ]
    },
    {
      "cell_type": "code",
      "metadata": {
        "id": "lmgYj1Na0rf1",
        "colab_type": "code",
        "outputId": "c8c07669-2cb2-4a01-9671-fdf3c7d160a7",
        "colab": {
          "base_uri": "https://localhost:8080/",
          "height": 295
        }
      },
      "source": [
        "plt.plot(recalls[:-1], precisions[:-1])\n",
        "plt.xlabel('Recall')\n",
        "plt.ylabel('Precision')\n",
        "plt.title('Precision verse Recall')\n",
        "plt.show()"
      ],
      "execution_count": 0,
      "outputs": [
        {
          "output_type": "display_data",
          "data": {
            "image/png": "[encoded data removed]",
            "text/plain": [
              "<Figure size 432x288 with 1 Axes>"
            ]
          },
          "metadata": {
            "tags": []
          }
        }
      ]
    },
    {
      "cell_type": "code",
      "metadata": {
        "id": "rJmrScVH3Cw7",
        "colab_type": "code",
        "outputId": "ef20a183-6316-4bf1-8d7a-c16b17c9f201",
        "colab": {
          "base_uri": "https://localhost:8080/",
          "height": 51
        }
      },
      "source": [
        "# 90% precision, set the threshold to about 5000\n",
        "y_train_pred_90 = (y_scores > 5000)\n",
        "\n",
        "# New Precision score\n",
        "print(\"Prceision score: \", precision_score(y_train_5, y_train_pred_90))\n",
        "print(\"Recall score: \", recall_score(y_train_5, y_train_pred_90))"
      ],
      "execution_count": 0,
      "outputs": [
        {
          "output_type": "stream",
          "text": [
            "Prceision score:  0.9160050146259925\n",
            "Recall score:  0.40435344032466336\n"
          ],
          "name": "stdout"
        }
      ]
    },
    {
      "cell_type": "markdown",
      "metadata": {
        "id": "sejcSBgbgz9L",
        "colab_type": "text"
      },
      "source": [
        "## 3D: ROC Curve, AUC\n",
        "- True Positibe Rate vs. False Positive Rate\n",
        "- Sensitivity (Recall) vs. 1 - Specificity\n",
        "- Good classifier has AUC ~1.0, while random classifier has AUC ~0.5"
      ]
    },
    {
      "cell_type": "code",
      "metadata": {
        "id": "9wicyieMhI3H",
        "colab_type": "code",
        "outputId": "c3be9753-6ed1-42ed-98cd-988f1e727205",
        "colab": {
          "base_uri": "https://localhost:8080/",
          "height": 295
        }
      },
      "source": [
        "from sklearn.metrics import roc_curve\n",
        "\n",
        "fpr, tpr, thresholds = roc_curve(y_train_5, y_scores)\n",
        "\n",
        "def plot_roc_curve(fpr, tpr, label=None):\n",
        "    plt.plot(fpr, tpr, linewidth=2, label=label)\n",
        "    plt.plot([0, 1], [0, 1], 'k--')\n",
        "    plt.axis([0, 1, 0, 1])\n",
        "    plt.xlabel('False Positive Rate')\n",
        "    plt.ylabel('True Positive Rate')\n",
        "    plt.title(\"SGD Classifier\")\n",
        "\n",
        "plot_roc_curve(fpr, tpr, \"SGD Classifier\")\n",
        "plt.show()"
      ],
      "execution_count": 0,
      "outputs": [
        {
          "output_type": "display_data",
          "data": {
            "image/png": "[encoded data removed]",
            "text/plain": [
              "<Figure size 432x288 with 1 Axes>"
            ]
          },
          "metadata": {
            "tags": []
          }
        }
      ]
    },
    {
      "cell_type": "code",
      "metadata": {
        "id": "78Jq2yERwTNE",
        "colab_type": "code",
        "outputId": "0b1258da-88e4-4d63-cd23-25b62c7a2c13",
        "colab": {
          "base_uri": "https://localhost:8080/",
          "height": 34
        }
      },
      "source": [
        "from sklearn.metrics import roc_auc_score\n",
        "roc_auc_score(y_train_5, y_scores)"
      ],
      "execution_count": 0,
      "outputs": [
        {
          "output_type": "execute_result",
          "data": {
            "text/plain": [
              "0.9604938554008616"
            ]
          },
          "metadata": {
            "tags": []
          },
          "execution_count": 26
        }
      ]
    },
    {
      "cell_type": "markdown",
      "metadata": {
        "id": "2Lo7K7KUzvdV",
        "colab_type": "text"
      },
      "source": [
        "# 2B: Random Forest Classifier"
      ]
    },
    {
      "cell_type": "code",
      "metadata": {
        "id": "A2zMaVWNz8GA",
        "colab_type": "code",
        "outputId": "8b1d8d69-35ce-44e9-c97a-7f1afff643c8",
        "colab": {
          "base_uri": "https://localhost:8080/",
          "height": 139
        }
      },
      "source": [
        "from sklearn.ensemble import RandomForestClassifier\n",
        "\n",
        "forest_clf = RandomForestClassifier(random_state=42)\n",
        "y_probas_forest = cross_val_predict(forest_clf, X_train, y_train_5, cv=3,\n",
        "                                    method=\"predict_proba\")"
      ],
      "execution_count": 0,
      "outputs": [
        {
          "output_type": "stream",
          "text": [
            "/usr/local/lib/python3.6/dist-packages/sklearn/ensemble/forest.py:245: FutureWarning: The default value of n_estimators will change from 10 in version 0.20 to 100 in 0.22.\n",
            "  \"10 in version 0.20 to 100 in 0.22.\", FutureWarning)\n",
            "/usr/local/lib/python3.6/dist-packages/sklearn/ensemble/forest.py:245: FutureWarning: The default value of n_estimators will change from 10 in version 0.20 to 100 in 0.22.\n",
            "  \"10 in version 0.20 to 100 in 0.22.\", FutureWarning)\n",
            "/usr/local/lib/python3.6/dist-packages/sklearn/ensemble/forest.py:245: FutureWarning: The default value of n_estimators will change from 10 in version 0.20 to 100 in 0.22.\n",
            "  \"10 in version 0.20 to 100 in 0.22.\", FutureWarning)\n"
          ],
          "name": "stderr"
        }
      ]
    },
    {
      "cell_type": "code",
      "metadata": {
        "id": "o_gtnOn20rGg",
        "colab_type": "code",
        "outputId": "39274f9b-6b42-49f6-b391-440e17a5f653",
        "colab": {
          "base_uri": "https://localhost:8080/",
          "height": 295
        }
      },
      "source": [
        "# Decision score = Probability of positive class\n",
        "y_scores_forest = y_probas_forest[:, 1]\n",
        "\n",
        "fpr_forest, tpr_forest, thresholds_forest = roc_curve(y_train_5, y_scores_forest)\n",
        "\n",
        "plt.plot(fpr, tpr, \"b:\", label=\"SGD Classifier\") # Also plot the SGD classifier\n",
        "plot_roc_curve(fpr_forest, tpr_forest, \"Random Forest Classifier\")\n",
        "plt.legend(loc=\"lower right\")\n",
        "plt.show()"
      ],
      "execution_count": 0,
      "outputs": [
        {
          "output_type": "display_data",
          "data": {
            "image/png": "[encoded data removed]",
            "text/plain": [
              "<Figure size 432x288 with 1 Axes>"
            ]
          },
          "metadata": {
            "tags": []
          }
        }
      ]
    },
    {
      "cell_type": "code",
      "metadata": {
        "id": "6X3OEnZ72w2V",
        "colab_type": "code",
        "outputId": "c0fb2b8e-a126-4d10-b5ac-738c7c0fd1cd",
        "colab": {
          "base_uri": "https://localhost:8080/",
          "height": 34
        }
      },
      "source": [
        "# ROC AUC score of Random Classifier\n",
        "print(\"ROC AUC score: \", roc_auc_score(y_train_5, y_scores_forest))"
      ],
      "execution_count": 0,
      "outputs": [
        {
          "output_type": "stream",
          "text": [
            "ROC AUC score:  0.9920527492698306\n"
          ],
          "name": "stdout"
        }
      ]
    },
    {
      "cell_type": "code",
      "metadata": {
        "id": "rgw0L99C4KIZ",
        "colab_type": "code",
        "outputId": "6692263f-f7b0-4be4-95d5-7f5052b7008f",
        "colab": {
          "base_uri": "https://localhost:8080/",
          "height": 139
        }
      },
      "source": [
        "# Get all predictions\n",
        "y_train_pred_forest = cross_val_predict(forest_clf, X_train, y_train_5, cv=3)"
      ],
      "execution_count": 0,
      "outputs": [
        {
          "output_type": "stream",
          "text": [
            "/usr/local/lib/python3.6/dist-packages/sklearn/ensemble/forest.py:245: FutureWarning: The default value of n_estimators will change from 10 in version 0.20 to 100 in 0.22.\n",
            "  \"10 in version 0.20 to 100 in 0.22.\", FutureWarning)\n",
            "/usr/local/lib/python3.6/dist-packages/sklearn/ensemble/forest.py:245: FutureWarning: The default value of n_estimators will change from 10 in version 0.20 to 100 in 0.22.\n",
            "  \"10 in version 0.20 to 100 in 0.22.\", FutureWarning)\n",
            "/usr/local/lib/python3.6/dist-packages/sklearn/ensemble/forest.py:245: FutureWarning: The default value of n_estimators will change from 10 in version 0.20 to 100 in 0.22.\n",
            "  \"10 in version 0.20 to 100 in 0.22.\", FutureWarning)\n"
          ],
          "name": "stderr"
        }
      ]
    },
    {
      "cell_type": "code",
      "metadata": {
        "id": "NmpDmzGR4g1z",
        "colab_type": "code",
        "outputId": "38c8f033-9902-4092-e881-3216f20ce768",
        "colab": {
          "base_uri": "https://localhost:8080/",
          "height": 51
        }
      },
      "source": [
        "# Precision score and Recall score of Random Classifier\n",
        "print(\"Precision score: \", precision_score(y_train_5, y_train_pred_forest))\n",
        "print(\"Recall score: \", recall_score(y_train_5, y_train_pred_forest))"
      ],
      "execution_count": 0,
      "outputs": [
        {
          "output_type": "stream",
          "text": [
            "Precision score:  0.986046511627907\n",
            "Recall score:  0.8212506917542889\n"
          ],
          "name": "stdout"
        }
      ]
    }
  ]
}