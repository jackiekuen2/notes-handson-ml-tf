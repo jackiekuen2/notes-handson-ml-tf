{
  "nbformat": 4,
  "nbformat_minor": 0,
  "metadata": {
    "colab": {
      "name": "ch8_PCA.ipynb",
      "provenance": [],
      "collapsed_sections": [],
      "authorship_tag": "ABX9TyN2Phf789S7jYL5pVouOKZw",
      "include_colab_link": true
    },
    "kernelspec": {
      "name": "python3",
      "display_name": "Python 3"
    }
  },
  "cells": [
    {
      "cell_type": "markdown",
      "metadata": {
        "id": "view-in-github",
        "colab_type": "text"
      },
      "source": [
        "<a href=\"https://colab.research.google.com/github/jackiekuen2/notes-handson-ml-tf/blob/master/ch8_PCA.ipynb\" target=\"_parent\"><img src=\"https://colab.research.google.com/assets/colab-badge.svg\" alt=\"Open In Colab\"/></a>"
      ]
    },
    {
      "cell_type": "code",
      "metadata": {
        "id": "GlhDKYPPhwQ3",
        "colab_type": "code",
        "colab": {}
      },
      "source": [
        "import numpy as np"
      ],
      "execution_count": 0,
      "outputs": []
    },
    {
      "cell_type": "code",
      "metadata": {
        "id": "sySc61MWha7F",
        "colab_type": "code",
        "colab": {}
      },
      "source": [
        "# Build a random 3D dataset\n",
        "np.random.seed(4)\n",
        "m = 60\n",
        "w1, w2 = 0.1, 0.3\n",
        "noise = 0.1\n",
        "\n",
        "angles = np.random.rand(m) * 3 * np.pi / 2 - 0.5\n",
        "X = np.empty((m, 3))\n",
        "X[:, 0] = np.cos(angles) + np.sin(angles)/2 + noise * np.random.randn(m) / 2\n",
        "X[:, 1] = np.sin(angles) * 0.7 + noise * np.random.randn(m) / 2\n",
        "X[:, 2] = X[:, 0] * w1 + X[:, 1] * w2 + noise * np.random.randn(m)"
      ],
      "execution_count": 0,
      "outputs": []
    },
    {
      "cell_type": "code",
      "metadata": {
        "id": "Erxs0dbBiU2f",
        "colab_type": "code",
        "outputId": "40892d98-f7f4-4ff8-a780-dc6c0c169967",
        "colab": {
          "base_uri": "https://localhost:8080/",
          "height": 102
        }
      },
      "source": [
        "X[:5]"
      ],
      "execution_count": 0,
      "outputs": [
        {
          "output_type": "execute_result",
          "data": {
            "text/plain": [
              "array([[-1.01570027, -0.55091331, -0.26132626],\n",
              "       [-0.00771675,  0.59958572,  0.03507755],\n",
              "       [-0.95317135, -0.46453691, -0.24920288],\n",
              "       [-0.92012304,  0.21009593,  0.02182381],\n",
              "       [-0.76309739,  0.158261  ,  0.19152496]])"
            ]
          },
          "metadata": {
            "tags": []
          },
          "execution_count": 3
        }
      ]
    },
    {
      "cell_type": "markdown",
      "metadata": {
        "id": "p3M8EDUqiD7v",
        "colab_type": "text"
      },
      "source": [
        "# B1. PCA"
      ]
    },
    {
      "cell_type": "code",
      "metadata": {
        "id": "Yx4csEhwiGPG",
        "colab_type": "code",
        "colab": {}
      },
      "source": [
        "from sklearn.decomposition import PCA\n",
        "\n",
        "pca = PCA(n_components=2)\n",
        "X2D = pca.fit_transform(X)"
      ],
      "execution_count": 0,
      "outputs": []
    },
    {
      "cell_type": "code",
      "metadata": {
        "id": "Cn4ZQ8lJiQt0",
        "colab_type": "code",
        "outputId": "21fa57dc-1f7b-40ea-b876-e3c122f6ae22",
        "colab": {
          "base_uri": "https://localhost:8080/",
          "height": 102
        }
      },
      "source": [
        "# Decompose 3D dataset X into 2D dataset X2D\n",
        "X2D[:5]"
      ],
      "execution_count": 0,
      "outputs": [
        {
          "output_type": "execute_result",
          "data": {
            "text/plain": [
              "array([[ 1.26203346,  0.42067648],\n",
              "       [-0.08001485, -0.35272239],\n",
              "       [ 1.17545763,  0.36085729],\n",
              "       [ 0.89305601, -0.30862856],\n",
              "       [ 0.73016287, -0.25404049]])"
            ]
          },
          "metadata": {
            "tags": []
          },
          "execution_count": 5
        }
      ]
    },
    {
      "cell_type": "code",
      "metadata": {
        "id": "letYlxGDiRPZ",
        "colab_type": "code",
        "outputId": "0b022472-7dbe-49c3-a057-d8f6fbce7831",
        "colab": {
          "base_uri": "https://localhost:8080/",
          "height": 68
        }
      },
      "source": [
        "# Extract the principal components (PCs)\n",
        "c1 = pca.components_.T[:, 0]\n",
        "c2 = pca.components_.T[:, 1]\n",
        "\n",
        "print(\"1st PC: {} \\n2nd PC: {} \\nThey are column vectors with shape: {}\".format(c1, c2, c1.shape))"
      ],
      "execution_count": 0,
      "outputs": [
        {
          "output_type": "stream",
          "text": [
            "1st PC: [-0.93636116 -0.29854881 -0.18465208] \n",
            "2nd PC: [ 0.34027485 -0.90119108 -0.2684542 ] \n",
            "They are column vectors with shape: (3,)\n"
          ],
          "name": "stdout"
        }
      ]
    },
    {
      "cell_type": "code",
      "metadata": {
        "id": "579pYDBVj_cG",
        "colab_type": "code",
        "outputId": "2ee25354-d552-44c7-ec02-658271647ef5",
        "colab": {
          "base_uri": "https://localhost:8080/",
          "height": 34
        }
      },
      "source": [
        "# Explained Variance Ratio\n",
        "pca.explained_variance_ratio_"
      ],
      "execution_count": 0,
      "outputs": [
        {
          "output_type": "execute_result",
          "data": {
            "text/plain": [
              "array([0.84248607, 0.14631839])"
            ]
          },
          "metadata": {
            "tags": []
          },
          "execution_count": 7
        }
      ]
    },
    {
      "cell_type": "markdown",
      "metadata": {
        "id": "4MY1rPTil3eN",
        "colab_type": "text"
      },
      "source": [
        "84.2% of dataset's variance lies along the 1st axis, and 14.6% lies along the 2nd axis; remaining 1.2% lies for the 3rd axis (Carry little information)"
      ]
    },
    {
      "cell_type": "markdown",
      "metadata": {
        "id": "DuV1ZMDSn1-I",
        "colab_type": "text"
      },
      "source": [
        "## MNIST Compression"
      ]
    },
    {
      "cell_type": "code",
      "metadata": {
        "id": "XvNgVT-elxxD",
        "colab_type": "code",
        "colab": {}
      },
      "source": [
        "from six.moves import urllib\n",
        "try:\n",
        "    from sklearn.datasets import fetch_openml\n",
        "    mnist = fetch_openml('mnist_784', version=1)\n",
        "    mnist.target = mnist.target.astype(np.int64)\n",
        "except ImportError:\n",
        "    from sklearn.datasets import fetch_mldata\n",
        "    mnist = fetch_mldata('MNIST original')"
      ],
      "execution_count": 0,
      "outputs": []
    },
    {
      "cell_type": "code",
      "metadata": {
        "id": "cG597b2AoFp-",
        "colab_type": "code",
        "colab": {}
      },
      "source": [
        "from sklearn.model_selection import train_test_split\n",
        "\n",
        "X = mnist[\"data\"]\n",
        "y = mnist[\"target\"]\n",
        "\n",
        "X_train, X_test, y_train, y_test = train_test_split(X, y)"
      ],
      "execution_count": 0,
      "outputs": []
    },
    {
      "cell_type": "markdown",
      "metadata": {
        "id": "EEJ9xF1HoUtq",
        "colab_type": "text"
      },
      "source": [
        "### Method 1. Find the right number (d) of dimensions to reduce down to --> Then set n_components=d"
      ]
    },
    {
      "cell_type": "code",
      "metadata": {
        "id": "eoQ45-q7oQd2",
        "colab_type": "code",
        "colab": {}
      },
      "source": [
        "# Method 1\n",
        "pca = PCA()\n",
        "pca.fit(X_train)\n",
        "cumsum = np.cumsum(pca.explained_variance_ratio_)\n",
        "\n",
        "d = np.argmax(cumsum >= 0.95) + 1"
      ],
      "execution_count": 0,
      "outputs": []
    },
    {
      "cell_type": "code",
      "metadata": {
        "id": "xrY--tV7ogtC",
        "colab_type": "code",
        "outputId": "8bf20064-a14c-4762-a048-53134a9d4fb0",
        "colab": {
          "base_uri": "https://localhost:8080/",
          "height": 51
        }
      },
      "source": [
        "print(\"Original dimensions: %s\" % X.shape[1])\n",
        "print(\"The optimal dimensions to reduce down to: %s\" % d)"
      ],
      "execution_count": 0,
      "outputs": [
        {
          "output_type": "stream",
          "text": [
            "Original dimensions: 784\n",
            "The optimal dimensions to reduce down to: 154\n"
          ],
          "name": "stdout"
        }
      ]
    },
    {
      "cell_type": "markdown",
      "metadata": {
        "id": "Of4iEeLVplP0",
        "colab_type": "text"
      },
      "source": [
        "### Method 2. Set n_components to below 1.0 --> Target variance ratio to preserve"
      ]
    },
    {
      "cell_type": "code",
      "metadata": {
        "id": "oJlS0C8JpLdX",
        "colab_type": "code",
        "colab": {}
      },
      "source": [
        "pca = PCA(n_components=0.95)\n",
        "X_reduced = pca.fit_transform(X_train)"
      ],
      "execution_count": 0,
      "outputs": []
    },
    {
      "cell_type": "code",
      "metadata": {
        "id": "2T_XJtCdp1Sv",
        "colab_type": "code",
        "outputId": "d843aaa7-0867-4322-fb60-859b019ba901",
        "colab": {
          "base_uri": "https://localhost:8080/",
          "height": 34
        }
      },
      "source": [
        "print(\"New dimensions: %s\" % X_reduced.shape[1])"
      ],
      "execution_count": 0,
      "outputs": [
        {
          "output_type": "stream",
          "text": [
            "New dimensions: 154\n"
          ],
          "name": "stdout"
        }
      ]
    },
    {
      "cell_type": "markdown",
      "metadata": {
        "id": "Zebbje9txuy6",
        "colab_type": "text"
      },
      "source": [
        "## Recover compressed datasets"
      ]
    },
    {
      "cell_type": "code",
      "metadata": {
        "id": "TKN7wHrYp7hY",
        "colab_type": "code",
        "colab": {}
      },
      "source": [
        "X_recovered = pca.inverse_transform(X_reduced)"
      ],
      "execution_count": 0,
      "outputs": []
    },
    {
      "cell_type": "code",
      "metadata": {
        "id": "STdl0H3zx434",
        "colab_type": "code",
        "outputId": "2b031930-a08c-4c68-a2c3-86a0914f33bc",
        "colab": {
          "base_uri": "https://localhost:8080/",
          "height": 34
        }
      },
      "source": [
        "print(\"Recovered dimensions: %s\" % X_recovered.shape[1])"
      ],
      "execution_count": 0,
      "outputs": [
        {
          "output_type": "stream",
          "text": [
            "Recovered dimensions: 784\n"
          ],
          "name": "stdout"
        }
      ]
    },
    {
      "cell_type": "markdown",
      "metadata": {
        "id": "r7PLFRu4z4Z9",
        "colab_type": "text"
      },
      "source": [
        "## Incremental PCA"
      ]
    },
    {
      "cell_type": "code",
      "metadata": {
        "id": "t_ojIYbRz_7M",
        "colab_type": "code",
        "colab": {}
      },
      "source": [
        "from sklearn.decomposition import IncrementalPCA\n",
        "\n",
        "n_batches = 100\n",
        "inc_pca = IncrementalPCA(n_components=154)\n",
        "for X_batch in np.array_split(X_train, n_batches):\n",
        "    inc_pca.partial_fit(X_batch)\n",
        "\n",
        "X_reduced = inc_pca.transform(X_train)"
      ],
      "execution_count": 0,
      "outputs": []
    },
    {
      "cell_type": "code",
      "metadata": {
        "id": "o58Ro31c0cru",
        "colab_type": "code",
        "outputId": "26a87158-e428-4e38-9da7-53b51fdd1bf7",
        "colab": {
          "base_uri": "https://localhost:8080/",
          "height": 34
        }
      },
      "source": [
        "X_reduced.shape"
      ],
      "execution_count": 0,
      "outputs": [
        {
          "output_type": "execute_result",
          "data": {
            "text/plain": [
              "(52500, 154)"
            ]
          },
          "metadata": {
            "tags": []
          },
          "execution_count": 17
        }
      ]
    },
    {
      "cell_type": "markdown",
      "metadata": {
        "id": "jU_GaAAn3ixz",
        "colab_type": "text"
      },
      "source": [
        "# B2. Kernel PCA"
      ]
    },
    {
      "cell_type": "code",
      "metadata": {
        "id": "6E4Pazp_04ES",
        "colab_type": "code",
        "colab": {}
      },
      "source": [
        "from sklearn.datasets import make_swiss_roll\n",
        "\n",
        "X, t = make_swiss_roll(n_samples=1000, noise=0.2, random_state=42)\n",
        "y = t > 6.9"
      ],
      "execution_count": 0,
      "outputs": []
    },
    {
      "cell_type": "code",
      "metadata": {
        "id": "_-DufWp338EQ",
        "colab_type": "code",
        "outputId": "326b0110-d72b-40c0-ed52-c1e7828b04d8",
        "colab": {
          "base_uri": "https://localhost:8080/",
          "height": 493
        }
      },
      "source": [
        "from sklearn.model_selection import GridSearchCV\n",
        "from sklearn.linear_model import LogisticRegression\n",
        "from sklearn.pipeline import Pipeline\n",
        "from sklearn.decomposition import KernelPCA\n",
        "\n",
        "clf = Pipeline([\n",
        "                ('kpca', KernelPCA(n_components=2)),\n",
        "                ('log_reg', LogisticRegression(solver='liblinear'))\n",
        "])\n",
        "\n",
        "param_grid = [{\n",
        "    \"kpca__gamma\": np.linspace(0.03, 0.05, 10),\n",
        "    \"kpca__kernel\": ['rbf', 'sigmoid']\n",
        "}]\n",
        "\n",
        "grid_search = GridSearchCV(clf, param_grid, cv=3)\n",
        "grid_search.fit(X, y)"
      ],
      "execution_count": 0,
      "outputs": [
        {
          "output_type": "execute_result",
          "data": {
            "text/plain": [
              "GridSearchCV(cv=3, error_score=nan,\n",
              "             estimator=Pipeline(memory=None,\n",
              "                                steps=[('kpca',\n",
              "                                        KernelPCA(alpha=1.0, coef0=1,\n",
              "                                                  copy_X=True, degree=3,\n",
              "                                                  eigen_solver='auto',\n",
              "                                                  fit_inverse_transform=False,\n",
              "                                                  gamma=None, kernel='linear',\n",
              "                                                  kernel_params=None,\n",
              "                                                  max_iter=None, n_components=2,\n",
              "                                                  n_jobs=None,\n",
              "                                                  random_state=None,\n",
              "                                                  remove_zero_eig=False,\n",
              "                                                  tol=0)),\n",
              "                                       ('log_reg',\n",
              "                                        LogisticRegression(C=1.0,\n",
              "                                                           cl...\n",
              "                                                           solver='liblinear',\n",
              "                                                           tol=0.0001,\n",
              "                                                           verbose=0,\n",
              "                                                           warm_start=False))],\n",
              "                                verbose=False),\n",
              "             iid='deprecated', n_jobs=None,\n",
              "             param_grid=[{'kpca__gamma': array([0.03      , 0.03222222, 0.03444444, 0.03666667, 0.03888889,\n",
              "       0.04111111, 0.04333333, 0.04555556, 0.04777778, 0.05      ]),\n",
              "                          'kpca__kernel': ['rbf', 'sigmoid']}],\n",
              "             pre_dispatch='2*n_jobs', refit=True, return_train_score=False,\n",
              "             scoring=None, verbose=0)"
            ]
          },
          "metadata": {
            "tags": []
          },
          "execution_count": 19
        }
      ]
    },
    {
      "cell_type": "code",
      "metadata": {
        "id": "mQ3Q8fso4uNX",
        "colab_type": "code",
        "outputId": "6b22ebff-e9e9-482b-a632-1d9b7f8debfe",
        "colab": {
          "base_uri": "https://localhost:8080/",
          "height": 34
        }
      },
      "source": [
        "print(grid_search.best_params_)"
      ],
      "execution_count": 0,
      "outputs": [
        {
          "output_type": "stream",
          "text": [
            "{'kpca__gamma': 0.043333333333333335, 'kpca__kernel': 'rbf'}\n"
          ],
          "name": "stdout"
        }
      ]
    },
    {
      "cell_type": "markdown",
      "metadata": {
        "id": "pXDD4YpXX8Uk",
        "colab_type": "text"
      },
      "source": [
        "## Reconstruction from Kernel PCA"
      ]
    },
    {
      "cell_type": "code",
      "metadata": {
        "id": "KWDhiyIS5jTB",
        "colab_type": "code",
        "colab": {}
      },
      "source": [
        "rbf_pca = KernelPCA(n_components=2, kernel='rbf', gamma=0.0433, fit_inverse_transform=True)\n",
        "X_reduced = rbf_pca.fit_transform(X)\n",
        "X_preimage = rbf_pca.inverse_transform(X_reduced)"
      ],
      "execution_count": 0,
      "outputs": []
    },
    {
      "cell_type": "code",
      "metadata": {
        "id": "RO5mjI0vYfwV",
        "colab_type": "code",
        "outputId": "bac1e8cd-11cc-4ead-8633-366a5414900c",
        "colab": {
          "base_uri": "https://localhost:8080/",
          "height": 34
        }
      },
      "source": [
        "from sklearn.metrics import mean_squared_error\n",
        "\n",
        "mean_squared_error(X, X_preimage) # Pre-image reconstruction error"
      ],
      "execution_count": 0,
      "outputs": [
        {
          "output_type": "execute_result",
          "data": {
            "text/plain": [
              "32.78630879576613"
            ]
          },
          "metadata": {
            "tags": []
          },
          "execution_count": 25
        }
      ]
    },
    {
      "cell_type": "markdown",
      "metadata": {
        "id": "IQHd1Xpg08GN",
        "colab_type": "text"
      },
      "source": [
        "End"
      ]
    }
  ]
}