{
  "nbformat": 4,
  "nbformat_minor": 0,
  "metadata": {
    "colab": {
      "name": "ch8_ExerciseQ9_PCA_MNIST.ipynb",
      "provenance": [],
      "collapsed_sections": [],
      "machine_shape": "hm",
      "authorship_tag": "ABX9TyP79Kz5XMIlEfTDu/A5W1pr",
      "include_colab_link": true
    },
    "kernelspec": {
      "name": "python3",
      "display_name": "Python 3"
    }
  },
  "cells": [
    {
      "cell_type": "markdown",
      "metadata": {
        "id": "view-in-github",
        "colab_type": "text"
      },
      "source": [
        "<a href=\"https://colab.research.google.com/github/jackiekuen2/notes-handson-ml-tf/blob/master/ch8_ExerciseQ9_PCA_MNIST.ipynb\" target=\"_parent\"><img src=\"https://colab.research.google.com/assets/colab-badge.svg\" alt=\"Open In Colab\"/></a>"
      ]
    },
    {
      "cell_type": "code",
      "metadata": {
        "id": "zYaysLf6CFjE",
        "colab_type": "code",
        "colab": {}
      },
      "source": [
        "# a = []\n",
        "# while(1):\n",
        "#     a.append('1')"
      ],
      "execution_count": 0,
      "outputs": []
    },
    {
      "cell_type": "code",
      "metadata": {
        "id": "8sBDrDFCAdQC",
        "colab_type": "code",
        "colab": {}
      },
      "source": [
        "from sklearn.datasets import fetch_openml\n",
        "import numpy as np\n",
        "\n",
        "mnist = fetch_openml('mnist_784', version=1)\n",
        "mnist.target = mnist.target.astype(np.int64)"
      ],
      "execution_count": 0,
      "outputs": []
    },
    {
      "cell_type": "code",
      "metadata": {
        "id": "ECM2hKoWCrwX",
        "colab_type": "code",
        "outputId": "f5379652-fabe-4575-b20b-0d7c391ef82b",
        "colab": {
          "base_uri": "https://localhost:8080/",
          "height": 34
        }
      },
      "source": [
        "mnist.data.shape"
      ],
      "execution_count": 0,
      "outputs": [
        {
          "output_type": "execute_result",
          "data": {
            "text/plain": [
              "(70000, 784)"
            ]
          },
          "metadata": {
            "tags": []
          },
          "execution_count": 4
        }
      ]
    },
    {
      "cell_type": "code",
      "metadata": {
        "id": "LstwrqZ0C3PM",
        "colab_type": "code",
        "colab": {}
      },
      "source": [
        "from sklearn.model_selection import train_test_split\n",
        "\n",
        "X_train, X_test, y_train, y_test = train_test_split(mnist.data, mnist.target, test_size=10000, random_state=42)"
      ],
      "execution_count": 0,
      "outputs": []
    },
    {
      "cell_type": "markdown",
      "metadata": {
        "id": "daG81W2ILPv1",
        "colab_type": "text"
      },
      "source": [
        "# Part A"
      ]
    },
    {
      "cell_type": "markdown",
      "metadata": {
        "id": "pZUFrfnAHnsV",
        "colab_type": "text"
      },
      "source": [
        "## Random Forest Classifier #1"
      ]
    },
    {
      "cell_type": "code",
      "metadata": {
        "id": "2P9_xxoZDUFc",
        "colab_type": "code",
        "colab": {}
      },
      "source": [
        "from sklearn.ensemble import RandomForestClassifier\n",
        "\n",
        "forest_clf = RandomForestClassifier(n_estimators=10, random_state=42)"
      ],
      "execution_count": 0,
      "outputs": []
    },
    {
      "cell_type": "code",
      "metadata": {
        "id": "1zeAPeYEEphq",
        "colab_type": "code",
        "outputId": "5bb8c6a5-e738-44b6-d7a6-d27971ba72a2",
        "colab": {
          "base_uri": "https://localhost:8080/",
          "height": 34
        }
      },
      "source": [
        "import time\n",
        "\n",
        "start_time = time.time()\n",
        "\n",
        "forest_clf.fit(X=X_train, y=y_train)\n",
        "\n",
        "print(\"Training time: {}\".format(time.time() - start_time))"
      ],
      "execution_count": 0,
      "outputs": [
        {
          "output_type": "stream",
          "text": [
            "Training time: 4.348313093185425\n"
          ],
          "name": "stdout"
        }
      ]
    },
    {
      "cell_type": "code",
      "metadata": {
        "id": "NLgokn71FPvv",
        "colab_type": "code",
        "outputId": "c3296579-f2a2-492b-bfa2-6f84c646f130",
        "colab": {
          "base_uri": "https://localhost:8080/",
          "height": 34
        }
      },
      "source": [
        "from sklearn.metrics import accuracy_score\n",
        "\n",
        "y_test_pred = forest_clf.predict(X_test)\n",
        "\n",
        "accuracy_score(y_test, y_test_pred)"
      ],
      "execution_count": 0,
      "outputs": [
        {
          "output_type": "execute_result",
          "data": {
            "text/plain": [
              "0.9465"
            ]
          },
          "metadata": {
            "tags": []
          },
          "execution_count": 16
        }
      ]
    },
    {
      "cell_type": "markdown",
      "metadata": {
        "id": "9IexZkXRGAEB",
        "colab_type": "text"
      },
      "source": [
        "Random Forest Classifier's testing accuracy: 94.65%"
      ]
    },
    {
      "cell_type": "markdown",
      "metadata": {
        "id": "xK5HNAv_HlQL",
        "colab_type": "text"
      },
      "source": [
        "## PCA + Random Forest Classifier #2"
      ]
    },
    {
      "cell_type": "code",
      "metadata": {
        "id": "dHv7lIzZHV2Y",
        "colab_type": "code",
        "colab": {}
      },
      "source": [
        "from sklearn.decomposition import PCA\n",
        "\n",
        "pca = PCA(n_components=0.95)\n",
        "X_train_reduced = pca.fit_transform(X_train)"
      ],
      "execution_count": 0,
      "outputs": []
    },
    {
      "cell_type": "code",
      "metadata": {
        "id": "cVFd0oHUIKub",
        "colab_type": "code",
        "outputId": "2a88b5c7-8797-467e-ab52-c967060ff649",
        "colab": {
          "base_uri": "https://localhost:8080/",
          "height": 34
        }
      },
      "source": [
        "forest_clf2 = RandomForestClassifier(n_estimators=10, random_state=42)\n",
        "\n",
        "start_time = time.time()\n",
        "forest_clf2.fit(X=X_train_reduced, y=y_train)\n",
        "\n",
        "print(\"Training time: {}\".format(time.time() - start_time))"
      ],
      "execution_count": 0,
      "outputs": [
        {
          "output_type": "stream",
          "text": [
            "Training time: 11.788392066955566\n"
          ],
          "name": "stdout"
        }
      ]
    },
    {
      "cell_type": "markdown",
      "metadata": {
        "id": "NfHh88toI8rp",
        "colab_type": "text"
      },
      "source": [
        "The training time with PCA dimensionality reduction is not always faster. It depends on dataset, model and training algorithm."
      ]
    },
    {
      "cell_type": "code",
      "metadata": {
        "id": "2GSXV1MfIoYL",
        "colab_type": "code",
        "outputId": "86349716-73b3-4fc5-b11a-a9363117f2ea",
        "colab": {
          "base_uri": "https://localhost:8080/",
          "height": 34
        }
      },
      "source": [
        "X_test_reduced = pca.transform(X_test)\n",
        "\n",
        "y_test_pred = forest_clf2.predict(X_test_reduced)\n",
        "\n",
        "accuracy_score(y_test, y_test_pred)"
      ],
      "execution_count": 0,
      "outputs": [
        {
          "output_type": "execute_result",
          "data": {
            "text/plain": [
              "0.891"
            ]
          },
          "metadata": {
            "tags": []
          },
          "execution_count": 19
        }
      ]
    },
    {
      "cell_type": "markdown",
      "metadata": {
        "id": "tpQwQGZsK0WS",
        "colab_type": "text"
      },
      "source": [
        "The new Random Forest Classifier (with PCA) testing accuracy: 89.1%"
      ]
    },
    {
      "cell_type": "markdown",
      "metadata": {
        "id": "RbOvHzQ-LOXe",
        "colab_type": "text"
      },
      "source": [
        "# Part B"
      ]
    },
    {
      "cell_type": "markdown",
      "metadata": {
        "id": "1m3cn0IDLWvr",
        "colab_type": "text"
      },
      "source": [
        "## Logistic Regression #1"
      ]
    },
    {
      "cell_type": "code",
      "metadata": {
        "id": "DaZFfDCfLceM",
        "colab_type": "code",
        "outputId": "93fa7be9-6ac0-4008-f805-8505b1722d0c",
        "colab": {
          "base_uri": "https://localhost:8080/",
          "height": 170
        }
      },
      "source": [
        "from sklearn.linear_model import LogisticRegression\n",
        "\n",
        "log_clf = LogisticRegression(multi_class='multinomial', solver='lbfgs', random_state=42)\n",
        "\n",
        "start_time = time.time()\n",
        "\n",
        "log_clf.fit(X_train, y_train)\n",
        "\n",
        "print(\"Training time: {}\".format(time.time() - start_time))"
      ],
      "execution_count": 0,
      "outputs": [
        {
          "output_type": "stream",
          "text": [
            "Training time: 18.81350016593933\n"
          ],
          "name": "stdout"
        },
        {
          "output_type": "stream",
          "text": [
            "/usr/local/lib/python3.6/dist-packages/sklearn/linear_model/_logistic.py:940: ConvergenceWarning: lbfgs failed to converge (status=1):\n",
            "STOP: TOTAL NO. of ITERATIONS REACHED LIMIT.\n",
            "\n",
            "Increase the number of iterations (max_iter) or scale the data as shown in:\n",
            "    https://scikit-learn.org/stable/modules/preprocessing.html\n",
            "Please also refer to the documentation for alternative solver options:\n",
            "    https://scikit-learn.org/stable/modules/linear_model.html#logistic-regression\n",
            "  extra_warning_msg=_LOGISTIC_SOLVER_CONVERGENCE_MSG)\n"
          ],
          "name": "stderr"
        }
      ]
    },
    {
      "cell_type": "code",
      "metadata": {
        "id": "yW4BKEG7MUUO",
        "colab_type": "code",
        "outputId": "5a0bb6bf-c82e-4bfa-c825-2ae4e4c0fb3f",
        "colab": {
          "base_uri": "https://localhost:8080/",
          "height": 34
        }
      },
      "source": [
        "y_test_pred = log_clf.predict(X_test)\n",
        "\n",
        "print(\"Testing accuracy: {}%\".format(accuracy_score(y_test, y_test_pred)*100))"
      ],
      "execution_count": 0,
      "outputs": [
        {
          "output_type": "stream",
          "text": [
            "Testing accuracy: 91.89%\n"
          ],
          "name": "stdout"
        }
      ]
    },
    {
      "cell_type": "markdown",
      "metadata": {
        "id": "szNSZzAZN7hl",
        "colab_type": "text"
      },
      "source": [
        "## PCA + Logistic Regression #2"
      ]
    },
    {
      "cell_type": "code",
      "metadata": {
        "id": "L8sCCN_rMmc4",
        "colab_type": "code",
        "outputId": "7fa3dc2e-7236-464a-d14d-c0bcbb89e3c1",
        "colab": {
          "base_uri": "https://localhost:8080/",
          "height": 170
        }
      },
      "source": [
        "log_clf2 = LogisticRegression(multi_class='multinomial', solver='lbfgs', random_state=42)\n",
        "\n",
        "start_time = time.time()\n",
        "\n",
        "log_clf2.fit(X_train_reduced, y_train)\n",
        "\n",
        "print(\"Training time: {}\".format(time.time() - start_time))"
      ],
      "execution_count": 0,
      "outputs": [
        {
          "output_type": "stream",
          "text": [
            "Training time: 9.481841564178467\n"
          ],
          "name": "stdout"
        },
        {
          "output_type": "stream",
          "text": [
            "/usr/local/lib/python3.6/dist-packages/sklearn/linear_model/_logistic.py:940: ConvergenceWarning: lbfgs failed to converge (status=1):\n",
            "STOP: TOTAL NO. of ITERATIONS REACHED LIMIT.\n",
            "\n",
            "Increase the number of iterations (max_iter) or scale the data as shown in:\n",
            "    https://scikit-learn.org/stable/modules/preprocessing.html\n",
            "Please also refer to the documentation for alternative solver options:\n",
            "    https://scikit-learn.org/stable/modules/linear_model.html#logistic-regression\n",
            "  extra_warning_msg=_LOGISTIC_SOLVER_CONVERGENCE_MSG)\n"
          ],
          "name": "stderr"
        }
      ]
    },
    {
      "cell_type": "code",
      "metadata": {
        "id": "37UP67rWNPZh",
        "colab_type": "code",
        "outputId": "2a01fd4c-9d0e-4339-f94d-0abfaf7525f2",
        "colab": {
          "base_uri": "https://localhost:8080/",
          "height": 34
        }
      },
      "source": [
        "y_test_pred = log_clf2.predict(X_test_reduced)\n",
        "\n",
        "print(\"Testing accuracy: {}%\".format(accuracy_score(y_test, y_test_pred)*100))"
      ],
      "execution_count": 0,
      "outputs": [
        {
          "output_type": "stream",
          "text": [
            "Testing accuracy: 91.41%\n"
          ],
          "name": "stdout"
        }
      ]
    },
    {
      "cell_type": "markdown",
      "metadata": {
        "id": "0g6sRPEFNiz2",
        "colab_type": "text"
      },
      "source": [
        "A slight drop in testing accurary, but shorten the training time by half"
      ]
    }
  ]
}